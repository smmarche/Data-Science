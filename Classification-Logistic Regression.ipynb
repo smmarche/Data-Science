{
  "nbformat": 4,
  "nbformat_minor": 0,
  "metadata": {
    "colab": {
      "provenance": [],
      "toc_visible": true
    },
    "kernelspec": {
      "name": "python3",
      "display_name": "Python 3"
    },
    "language_info": {
      "name": "python"
    },
    "widgets": {
      "application/vnd.jupyter.widget-state+json": {
        "867ff52b4b0140fcb9358ab8fe519c86": {
          "model_module": "@jupyter-widgets/controls",
          "model_name": "HBoxModel",
          "model_module_version": "1.5.0",
          "state": {
            "_dom_classes": [],
            "_model_module": "@jupyter-widgets/controls",
            "_model_module_version": "1.5.0",
            "_model_name": "HBoxModel",
            "_view_count": null,
            "_view_module": "@jupyter-widgets/controls",
            "_view_module_version": "1.5.0",
            "_view_name": "HBoxView",
            "box_style": "",
            "children": [
              "IPY_MODEL_96eca633d34d4b18927bba9c31094dbe",
              "IPY_MODEL_2a0808e0196544b98526120436846ae6",
              "IPY_MODEL_f902ef511d8042488a608c6d9937542f"
            ],
            "layout": "IPY_MODEL_5170ee587481430e862a507ce1aa4027"
          }
        },
        "96eca633d34d4b18927bba9c31094dbe": {
          "model_module": "@jupyter-widgets/controls",
          "model_name": "HTMLModel",
          "model_module_version": "1.5.0",
          "state": {
            "_dom_classes": [],
            "_model_module": "@jupyter-widgets/controls",
            "_model_module_version": "1.5.0",
            "_model_name": "HTMLModel",
            "_view_count": null,
            "_view_module": "@jupyter-widgets/controls",
            "_view_module_version": "1.5.0",
            "_view_name": "HTMLView",
            "description": "",
            "description_tooltip": null,
            "layout": "IPY_MODEL_69be581cc4b146aea6305b08f8fac59f",
            "placeholder": "​",
            "style": "IPY_MODEL_02a6e142b34041478960c2bad992027a",
            "value": "100%"
          }
        },
        "2a0808e0196544b98526120436846ae6": {
          "model_module": "@jupyter-widgets/controls",
          "model_name": "FloatProgressModel",
          "model_module_version": "1.5.0",
          "state": {
            "_dom_classes": [],
            "_model_module": "@jupyter-widgets/controls",
            "_model_module_version": "1.5.0",
            "_model_name": "FloatProgressModel",
            "_view_count": null,
            "_view_module": "@jupyter-widgets/controls",
            "_view_module_version": "1.5.0",
            "_view_name": "ProgressView",
            "bar_style": "success",
            "description": "",
            "description_tooltip": null,
            "layout": "IPY_MODEL_88a007b05d73466caf2ed3f0c90c3c50",
            "max": 60000,
            "min": 0,
            "orientation": "horizontal",
            "style": "IPY_MODEL_d265fc1562c843d2b4956c4a3adbcd67",
            "value": 60000
          }
        },
        "f902ef511d8042488a608c6d9937542f": {
          "model_module": "@jupyter-widgets/controls",
          "model_name": "HTMLModel",
          "model_module_version": "1.5.0",
          "state": {
            "_dom_classes": [],
            "_model_module": "@jupyter-widgets/controls",
            "_model_module_version": "1.5.0",
            "_model_name": "HTMLModel",
            "_view_count": null,
            "_view_module": "@jupyter-widgets/controls",
            "_view_module_version": "1.5.0",
            "_view_name": "HTMLView",
            "description": "",
            "description_tooltip": null,
            "layout": "IPY_MODEL_d34fde77c6ab4b529f25b5ef33e38601",
            "placeholder": "​",
            "style": "IPY_MODEL_95aaf286f1bd4bbcad6f79ae8ed91f93",
            "value": " 60000/60000 [00:13&lt;00:00, 4965.95it/s]"
          }
        },
        "5170ee587481430e862a507ce1aa4027": {
          "model_module": "@jupyter-widgets/base",
          "model_name": "LayoutModel",
          "model_module_version": "1.2.0",
          "state": {
            "_model_module": "@jupyter-widgets/base",
            "_model_module_version": "1.2.0",
            "_model_name": "LayoutModel",
            "_view_count": null,
            "_view_module": "@jupyter-widgets/base",
            "_view_module_version": "1.2.0",
            "_view_name": "LayoutView",
            "align_content": null,
            "align_items": null,
            "align_self": null,
            "border": null,
            "bottom": null,
            "display": null,
            "flex": null,
            "flex_flow": null,
            "grid_area": null,
            "grid_auto_columns": null,
            "grid_auto_flow": null,
            "grid_auto_rows": null,
            "grid_column": null,
            "grid_gap": null,
            "grid_row": null,
            "grid_template_areas": null,
            "grid_template_columns": null,
            "grid_template_rows": null,
            "height": null,
            "justify_content": null,
            "justify_items": null,
            "left": null,
            "margin": null,
            "max_height": null,
            "max_width": null,
            "min_height": null,
            "min_width": null,
            "object_fit": null,
            "object_position": null,
            "order": null,
            "overflow": null,
            "overflow_x": null,
            "overflow_y": null,
            "padding": null,
            "right": null,
            "top": null,
            "visibility": null,
            "width": null
          }
        },
        "69be581cc4b146aea6305b08f8fac59f": {
          "model_module": "@jupyter-widgets/base",
          "model_name": "LayoutModel",
          "model_module_version": "1.2.0",
          "state": {
            "_model_module": "@jupyter-widgets/base",
            "_model_module_version": "1.2.0",
            "_model_name": "LayoutModel",
            "_view_count": null,
            "_view_module": "@jupyter-widgets/base",
            "_view_module_version": "1.2.0",
            "_view_name": "LayoutView",
            "align_content": null,
            "align_items": null,
            "align_self": null,
            "border": null,
            "bottom": null,
            "display": null,
            "flex": null,
            "flex_flow": null,
            "grid_area": null,
            "grid_auto_columns": null,
            "grid_auto_flow": null,
            "grid_auto_rows": null,
            "grid_column": null,
            "grid_gap": null,
            "grid_row": null,
            "grid_template_areas": null,
            "grid_template_columns": null,
            "grid_template_rows": null,
            "height": null,
            "justify_content": null,
            "justify_items": null,
            "left": null,
            "margin": null,
            "max_height": null,
            "max_width": null,
            "min_height": null,
            "min_width": null,
            "object_fit": null,
            "object_position": null,
            "order": null,
            "overflow": null,
            "overflow_x": null,
            "overflow_y": null,
            "padding": null,
            "right": null,
            "top": null,
            "visibility": null,
            "width": null
          }
        },
        "02a6e142b34041478960c2bad992027a": {
          "model_module": "@jupyter-widgets/controls",
          "model_name": "DescriptionStyleModel",
          "model_module_version": "1.5.0",
          "state": {
            "_model_module": "@jupyter-widgets/controls",
            "_model_module_version": "1.5.0",
            "_model_name": "DescriptionStyleModel",
            "_view_count": null,
            "_view_module": "@jupyter-widgets/base",
            "_view_module_version": "1.2.0",
            "_view_name": "StyleView",
            "description_width": ""
          }
        },
        "88a007b05d73466caf2ed3f0c90c3c50": {
          "model_module": "@jupyter-widgets/base",
          "model_name": "LayoutModel",
          "model_module_version": "1.2.0",
          "state": {
            "_model_module": "@jupyter-widgets/base",
            "_model_module_version": "1.2.0",
            "_model_name": "LayoutModel",
            "_view_count": null,
            "_view_module": "@jupyter-widgets/base",
            "_view_module_version": "1.2.0",
            "_view_name": "LayoutView",
            "align_content": null,
            "align_items": null,
            "align_self": null,
            "border": null,
            "bottom": null,
            "display": null,
            "flex": null,
            "flex_flow": null,
            "grid_area": null,
            "grid_auto_columns": null,
            "grid_auto_flow": null,
            "grid_auto_rows": null,
            "grid_column": null,
            "grid_gap": null,
            "grid_row": null,
            "grid_template_areas": null,
            "grid_template_columns": null,
            "grid_template_rows": null,
            "height": null,
            "justify_content": null,
            "justify_items": null,
            "left": null,
            "margin": null,
            "max_height": null,
            "max_width": null,
            "min_height": null,
            "min_width": null,
            "object_fit": null,
            "object_position": null,
            "order": null,
            "overflow": null,
            "overflow_x": null,
            "overflow_y": null,
            "padding": null,
            "right": null,
            "top": null,
            "visibility": null,
            "width": null
          }
        },
        "d265fc1562c843d2b4956c4a3adbcd67": {
          "model_module": "@jupyter-widgets/controls",
          "model_name": "ProgressStyleModel",
          "model_module_version": "1.5.0",
          "state": {
            "_model_module": "@jupyter-widgets/controls",
            "_model_module_version": "1.5.0",
            "_model_name": "ProgressStyleModel",
            "_view_count": null,
            "_view_module": "@jupyter-widgets/base",
            "_view_module_version": "1.2.0",
            "_view_name": "StyleView",
            "bar_color": null,
            "description_width": ""
          }
        },
        "d34fde77c6ab4b529f25b5ef33e38601": {
          "model_module": "@jupyter-widgets/base",
          "model_name": "LayoutModel",
          "model_module_version": "1.2.0",
          "state": {
            "_model_module": "@jupyter-widgets/base",
            "_model_module_version": "1.2.0",
            "_model_name": "LayoutModel",
            "_view_count": null,
            "_view_module": "@jupyter-widgets/base",
            "_view_module_version": "1.2.0",
            "_view_name": "LayoutView",
            "align_content": null,
            "align_items": null,
            "align_self": null,
            "border": null,
            "bottom": null,
            "display": null,
            "flex": null,
            "flex_flow": null,
            "grid_area": null,
            "grid_auto_columns": null,
            "grid_auto_flow": null,
            "grid_auto_rows": null,
            "grid_column": null,
            "grid_gap": null,
            "grid_row": null,
            "grid_template_areas": null,
            "grid_template_columns": null,
            "grid_template_rows": null,
            "height": null,
            "justify_content": null,
            "justify_items": null,
            "left": null,
            "margin": null,
            "max_height": null,
            "max_width": null,
            "min_height": null,
            "min_width": null,
            "object_fit": null,
            "object_position": null,
            "order": null,
            "overflow": null,
            "overflow_x": null,
            "overflow_y": null,
            "padding": null,
            "right": null,
            "top": null,
            "visibility": null,
            "width": null
          }
        },
        "95aaf286f1bd4bbcad6f79ae8ed91f93": {
          "model_module": "@jupyter-widgets/controls",
          "model_name": "DescriptionStyleModel",
          "model_module_version": "1.5.0",
          "state": {
            "_model_module": "@jupyter-widgets/controls",
            "_model_module_version": "1.5.0",
            "_model_name": "DescriptionStyleModel",
            "_view_count": null,
            "_view_module": "@jupyter-widgets/base",
            "_view_module_version": "1.2.0",
            "_view_name": "StyleView",
            "description_width": ""
          }
        }
      }
    }
  },
  "cells": [
    {
      "cell_type": "markdown",
      "source": [
        "#Classification\n",
        "\n",
        "We will work with two datasets\n",
        "1. Sensors - This dataset classifies if a room is occupied or not based on sensor readings https://archive.ics.uci.edu/ml/datasets/Occupancy+Detection+\n",
        "2. FMNIST - This dataset classifies 10 types of images of clothing https://github.com/zalandoresearch/fashion-mnist"
      ],
      "metadata": {
        "id": "89_G5p6d3Eb7"
      }
    },
    {
      "cell_type": "code",
      "execution_count": null,
      "metadata": {
        "id": "hOmI8RA2t19n"
      },
      "outputs": [],
      "source": [
        "import numpy as np # linear algebra\n",
        "import pandas as pd # data processing, CSV file I/O (e.g. pd.read_csv)\n",
        "\n",
        "import matplotlib.pyplot as plt\n",
        "%matplotlib inline\n",
        "import warnings\n",
        "warnings.filterwarnings('ignore')\n",
        "\n",
        "from sklearn import metrics\n",
        "from sklearn.model_selection import train_test_split\n",
        "from sklearn.linear_model import LogisticRegression\n",
        "from sklearn.calibration import calibration_curve\n",
        "from sklearn.discriminant_analysis import LinearDiscriminantAnalysis as LDA\n",
        "from sklearn.discriminant_analysis import QuadraticDiscriminantAnalysis as QDA\n",
        "from sklearn.naive_bayes import GaussianNB\n",
        "from sklearn.metrics import roc_curve, roc_auc_score"
      ]
    },
    {
      "cell_type": "code",
      "source": [
        "from sklearn.preprocessing import OneHotEncoder\n",
        "def brier_score(targets, probs):\n",
        "  enc = OneHotEncoder()\n",
        "  target_enc = enc.fit_transform(np.array(targets).reshape(-1, 1)).toarray()\n",
        "  return np.mean(np.sum((probs - target_enc)**2, axis=1))\n",
        "\n",
        "def log_score(targets, probs):\n",
        "  enc = OneHotEncoder()\n",
        "  target_enc = enc.fit_transform(np.array(targets).reshape(-1, 1)).toarray()\n",
        "  return -np.mean(np.sum(target_enc * np.log(probs + 1e-32), axis=1))"
      ],
      "metadata": {
        "id": "cjcg0q9NyJjT"
      },
      "execution_count": null,
      "outputs": []
    },
    {
      "cell_type": "markdown",
      "source": [
        "# Question 1 -- Room Occupancy\n",
        "\n",
        "Suppose you're an engineer working on smart home devices, such as a thermostat that only turns on the heat when a room is occupied.\n",
        "\n",
        "You need to know when a room is occupied so you devise the following system:\n",
        "1. Each customer will purchase (from you) four sensors which they place around the room.\n",
        "2. Each sensor is high quality and measures the ambient temperature, lighting, and sound level of the room with high precision\n",
        "3. Based on these sensors readings you want to design a model that will predict if the room is occupied or not.\n",
        "\n",
        "You test out these sensors and gather the following data\n",
        "1. temp, light, and sound measurements from each sensor\n",
        "2. whether the room is occupied or not\n",
        "\n",
        "\n"
      ],
      "metadata": {
        "id": "jcSDfdR6e_rI"
      }
    },
    {
      "cell_type": "code",
      "source": [
        "url = 'https://archive.ics.uci.edu/ml/machine-learning-databases/00640/Occupancy_Estimation.csv'\n",
        "occ = pd.read_csv(url).drop(['Date', 'Time', 'S5_CO2', 'S5_CO2_Slope', 'S6_PIR', 'S7_PIR'], axis = 1)\n",
        "occ['occupied'] = 1.0*(occ['Room_Occupancy_Count'] != 0)\n",
        "occ  = occ.drop(['Room_Occupancy_Count'], axis = 1).astype(int)\n",
        "occ.head(10)"
      ],
      "metadata": {
        "colab": {
          "base_uri": "https://localhost:8080/",
          "height": 363
        },
        "id": "HLXsbo7OuGeo",
        "outputId": "e067a0fe-fd4d-4b58-f5f5-1b38fe53dcb6"
      },
      "execution_count": null,
      "outputs": [
        {
          "output_type": "execute_result",
          "data": {
            "text/plain": [
              "   S1_Temp  S2_Temp  S3_Temp  S4_Temp  S1_Light  S2_Light  S3_Light  S4_Light  \\\n",
              "0       24       24       24       25       121        34        53        40   \n",
              "1       24       24       24       25       121        33        53        40   \n",
              "2       25       24       24       25       121        34        53        40   \n",
              "3       25       24       24       25       121        34        53        40   \n",
              "4       25       24       24       25       121        34        54        40   \n",
              "5       25       24       24       25       121        34        54        40   \n",
              "6       25       24       24       25       120        34        54        40   \n",
              "7       25       24       24       25       121        34        54        41   \n",
              "8       25       24       24       25       122        35        56        43   \n",
              "9       25       24       24       25       101        34        57        43   \n",
              "\n",
              "   S1_Sound  S2_Sound  S3_Sound  S4_Sound  occupied  \n",
              "0         0         0         0         0         1  \n",
              "1         0         0         0         0         1  \n",
              "2         0         0         0         0         1  \n",
              "3         0         0         0         0         1  \n",
              "4         0         0         0         0         1  \n",
              "5         0         0         0         0         1  \n",
              "6         1         0         0         0         1  \n",
              "7         0         0         0         0         1  \n",
              "8         0         0         0         0         1  \n",
              "9         3         0         0         0         1  "
            ],
            "text/html": [
              "\n",
              "  <div id=\"df-edd7ad06-44a1-4bea-90e9-2f2752ee1a0a\" class=\"colab-df-container\">\n",
              "    <div>\n",
              "<style scoped>\n",
              "    .dataframe tbody tr th:only-of-type {\n",
              "        vertical-align: middle;\n",
              "    }\n",
              "\n",
              "    .dataframe tbody tr th {\n",
              "        vertical-align: top;\n",
              "    }\n",
              "\n",
              "    .dataframe thead th {\n",
              "        text-align: right;\n",
              "    }\n",
              "</style>\n",
              "<table border=\"1\" class=\"dataframe\">\n",
              "  <thead>\n",
              "    <tr style=\"text-align: right;\">\n",
              "      <th></th>\n",
              "      <th>S1_Temp</th>\n",
              "      <th>S2_Temp</th>\n",
              "      <th>S3_Temp</th>\n",
              "      <th>S4_Temp</th>\n",
              "      <th>S1_Light</th>\n",
              "      <th>S2_Light</th>\n",
              "      <th>S3_Light</th>\n",
              "      <th>S4_Light</th>\n",
              "      <th>S1_Sound</th>\n",
              "      <th>S2_Sound</th>\n",
              "      <th>S3_Sound</th>\n",
              "      <th>S4_Sound</th>\n",
              "      <th>occupied</th>\n",
              "    </tr>\n",
              "  </thead>\n",
              "  <tbody>\n",
              "    <tr>\n",
              "      <th>0</th>\n",
              "      <td>24</td>\n",
              "      <td>24</td>\n",
              "      <td>24</td>\n",
              "      <td>25</td>\n",
              "      <td>121</td>\n",
              "      <td>34</td>\n",
              "      <td>53</td>\n",
              "      <td>40</td>\n",
              "      <td>0</td>\n",
              "      <td>0</td>\n",
              "      <td>0</td>\n",
              "      <td>0</td>\n",
              "      <td>1</td>\n",
              "    </tr>\n",
              "    <tr>\n",
              "      <th>1</th>\n",
              "      <td>24</td>\n",
              "      <td>24</td>\n",
              "      <td>24</td>\n",
              "      <td>25</td>\n",
              "      <td>121</td>\n",
              "      <td>33</td>\n",
              "      <td>53</td>\n",
              "      <td>40</td>\n",
              "      <td>0</td>\n",
              "      <td>0</td>\n",
              "      <td>0</td>\n",
              "      <td>0</td>\n",
              "      <td>1</td>\n",
              "    </tr>\n",
              "    <tr>\n",
              "      <th>2</th>\n",
              "      <td>25</td>\n",
              "      <td>24</td>\n",
              "      <td>24</td>\n",
              "      <td>25</td>\n",
              "      <td>121</td>\n",
              "      <td>34</td>\n",
              "      <td>53</td>\n",
              "      <td>40</td>\n",
              "      <td>0</td>\n",
              "      <td>0</td>\n",
              "      <td>0</td>\n",
              "      <td>0</td>\n",
              "      <td>1</td>\n",
              "    </tr>\n",
              "    <tr>\n",
              "      <th>3</th>\n",
              "      <td>25</td>\n",
              "      <td>24</td>\n",
              "      <td>24</td>\n",
              "      <td>25</td>\n",
              "      <td>121</td>\n",
              "      <td>34</td>\n",
              "      <td>53</td>\n",
              "      <td>40</td>\n",
              "      <td>0</td>\n",
              "      <td>0</td>\n",
              "      <td>0</td>\n",
              "      <td>0</td>\n",
              "      <td>1</td>\n",
              "    </tr>\n",
              "    <tr>\n",
              "      <th>4</th>\n",
              "      <td>25</td>\n",
              "      <td>24</td>\n",
              "      <td>24</td>\n",
              "      <td>25</td>\n",
              "      <td>121</td>\n",
              "      <td>34</td>\n",
              "      <td>54</td>\n",
              "      <td>40</td>\n",
              "      <td>0</td>\n",
              "      <td>0</td>\n",
              "      <td>0</td>\n",
              "      <td>0</td>\n",
              "      <td>1</td>\n",
              "    </tr>\n",
              "    <tr>\n",
              "      <th>5</th>\n",
              "      <td>25</td>\n",
              "      <td>24</td>\n",
              "      <td>24</td>\n",
              "      <td>25</td>\n",
              "      <td>121</td>\n",
              "      <td>34</td>\n",
              "      <td>54</td>\n",
              "      <td>40</td>\n",
              "      <td>0</td>\n",
              "      <td>0</td>\n",
              "      <td>0</td>\n",
              "      <td>0</td>\n",
              "      <td>1</td>\n",
              "    </tr>\n",
              "    <tr>\n",
              "      <th>6</th>\n",
              "      <td>25</td>\n",
              "      <td>24</td>\n",
              "      <td>24</td>\n",
              "      <td>25</td>\n",
              "      <td>120</td>\n",
              "      <td>34</td>\n",
              "      <td>54</td>\n",
              "      <td>40</td>\n",
              "      <td>1</td>\n",
              "      <td>0</td>\n",
              "      <td>0</td>\n",
              "      <td>0</td>\n",
              "      <td>1</td>\n",
              "    </tr>\n",
              "    <tr>\n",
              "      <th>7</th>\n",
              "      <td>25</td>\n",
              "      <td>24</td>\n",
              "      <td>24</td>\n",
              "      <td>25</td>\n",
              "      <td>121</td>\n",
              "      <td>34</td>\n",
              "      <td>54</td>\n",
              "      <td>41</td>\n",
              "      <td>0</td>\n",
              "      <td>0</td>\n",
              "      <td>0</td>\n",
              "      <td>0</td>\n",
              "      <td>1</td>\n",
              "    </tr>\n",
              "    <tr>\n",
              "      <th>8</th>\n",
              "      <td>25</td>\n",
              "      <td>24</td>\n",
              "      <td>24</td>\n",
              "      <td>25</td>\n",
              "      <td>122</td>\n",
              "      <td>35</td>\n",
              "      <td>56</td>\n",
              "      <td>43</td>\n",
              "      <td>0</td>\n",
              "      <td>0</td>\n",
              "      <td>0</td>\n",
              "      <td>0</td>\n",
              "      <td>1</td>\n",
              "    </tr>\n",
              "    <tr>\n",
              "      <th>9</th>\n",
              "      <td>25</td>\n",
              "      <td>24</td>\n",
              "      <td>24</td>\n",
              "      <td>25</td>\n",
              "      <td>101</td>\n",
              "      <td>34</td>\n",
              "      <td>57</td>\n",
              "      <td>43</td>\n",
              "      <td>3</td>\n",
              "      <td>0</td>\n",
              "      <td>0</td>\n",
              "      <td>0</td>\n",
              "      <td>1</td>\n",
              "    </tr>\n",
              "  </tbody>\n",
              "</table>\n",
              "</div>\n",
              "    <div class=\"colab-df-buttons\">\n",
              "\n",
              "  <div class=\"colab-df-container\">\n",
              "    <button class=\"colab-df-convert\" onclick=\"convertToInteractive('df-edd7ad06-44a1-4bea-90e9-2f2752ee1a0a')\"\n",
              "            title=\"Convert this dataframe to an interactive table.\"\n",
              "            style=\"display:none;\">\n",
              "\n",
              "  <svg xmlns=\"http://www.w3.org/2000/svg\" height=\"24px\" viewBox=\"0 -960 960 960\">\n",
              "    <path d=\"M120-120v-720h720v720H120Zm60-500h600v-160H180v160Zm220 220h160v-160H400v160Zm0 220h160v-160H400v160ZM180-400h160v-160H180v160Zm440 0h160v-160H620v160ZM180-180h160v-160H180v160Zm440 0h160v-160H620v160Z\"/>\n",
              "  </svg>\n",
              "    </button>\n",
              "\n",
              "  <style>\n",
              "    .colab-df-container {\n",
              "      display:flex;\n",
              "      gap: 12px;\n",
              "    }\n",
              "\n",
              "    .colab-df-convert {\n",
              "      background-color: #E8F0FE;\n",
              "      border: none;\n",
              "      border-radius: 50%;\n",
              "      cursor: pointer;\n",
              "      display: none;\n",
              "      fill: #1967D2;\n",
              "      height: 32px;\n",
              "      padding: 0 0 0 0;\n",
              "      width: 32px;\n",
              "    }\n",
              "\n",
              "    .colab-df-convert:hover {\n",
              "      background-color: #E2EBFA;\n",
              "      box-shadow: 0px 1px 2px rgba(60, 64, 67, 0.3), 0px 1px 3px 1px rgba(60, 64, 67, 0.15);\n",
              "      fill: #174EA6;\n",
              "    }\n",
              "\n",
              "    .colab-df-buttons div {\n",
              "      margin-bottom: 4px;\n",
              "    }\n",
              "\n",
              "    [theme=dark] .colab-df-convert {\n",
              "      background-color: #3B4455;\n",
              "      fill: #D2E3FC;\n",
              "    }\n",
              "\n",
              "    [theme=dark] .colab-df-convert:hover {\n",
              "      background-color: #434B5C;\n",
              "      box-shadow: 0px 1px 3px 1px rgba(0, 0, 0, 0.15);\n",
              "      filter: drop-shadow(0px 1px 2px rgba(0, 0, 0, 0.3));\n",
              "      fill: #FFFFFF;\n",
              "    }\n",
              "  </style>\n",
              "\n",
              "    <script>\n",
              "      const buttonEl =\n",
              "        document.querySelector('#df-edd7ad06-44a1-4bea-90e9-2f2752ee1a0a button.colab-df-convert');\n",
              "      buttonEl.style.display =\n",
              "        google.colab.kernel.accessAllowed ? 'block' : 'none';\n",
              "\n",
              "      async function convertToInteractive(key) {\n",
              "        const element = document.querySelector('#df-edd7ad06-44a1-4bea-90e9-2f2752ee1a0a');\n",
              "        const dataTable =\n",
              "          await google.colab.kernel.invokeFunction('convertToInteractive',\n",
              "                                                    [key], {});\n",
              "        if (!dataTable) return;\n",
              "\n",
              "        const docLinkHtml = 'Like what you see? Visit the ' +\n",
              "          '<a target=\"_blank\" href=https://colab.research.google.com/notebooks/data_table.ipynb>data table notebook</a>'\n",
              "          + ' to learn more about interactive tables.';\n",
              "        element.innerHTML = '';\n",
              "        dataTable['output_type'] = 'display_data';\n",
              "        await google.colab.output.renderOutput(dataTable, element);\n",
              "        const docLink = document.createElement('div');\n",
              "        docLink.innerHTML = docLinkHtml;\n",
              "        element.appendChild(docLink);\n",
              "      }\n",
              "    </script>\n",
              "  </div>\n",
              "\n",
              "\n",
              "<div id=\"df-4dfcd90b-1e18-4961-8f93-3ef0d9b0ed5e\">\n",
              "  <button class=\"colab-df-quickchart\" onclick=\"quickchart('df-4dfcd90b-1e18-4961-8f93-3ef0d9b0ed5e')\"\n",
              "            title=\"Suggest charts.\"\n",
              "            style=\"display:none;\">\n",
              "\n",
              "<svg xmlns=\"http://www.w3.org/2000/svg\" height=\"24px\"viewBox=\"0 0 24 24\"\n",
              "     width=\"24px\">\n",
              "    <g>\n",
              "        <path d=\"M19 3H5c-1.1 0-2 .9-2 2v14c0 1.1.9 2 2 2h14c1.1 0 2-.9 2-2V5c0-1.1-.9-2-2-2zM9 17H7v-7h2v7zm4 0h-2V7h2v10zm4 0h-2v-4h2v4z\"/>\n",
              "    </g>\n",
              "</svg>\n",
              "  </button>\n",
              "\n",
              "<style>\n",
              "  .colab-df-quickchart {\n",
              "      --bg-color: #E8F0FE;\n",
              "      --fill-color: #1967D2;\n",
              "      --hover-bg-color: #E2EBFA;\n",
              "      --hover-fill-color: #174EA6;\n",
              "      --disabled-fill-color: #AAA;\n",
              "      --disabled-bg-color: #DDD;\n",
              "  }\n",
              "\n",
              "  [theme=dark] .colab-df-quickchart {\n",
              "      --bg-color: #3B4455;\n",
              "      --fill-color: #D2E3FC;\n",
              "      --hover-bg-color: #434B5C;\n",
              "      --hover-fill-color: #FFFFFF;\n",
              "      --disabled-bg-color: #3B4455;\n",
              "      --disabled-fill-color: #666;\n",
              "  }\n",
              "\n",
              "  .colab-df-quickchart {\n",
              "    background-color: var(--bg-color);\n",
              "    border: none;\n",
              "    border-radius: 50%;\n",
              "    cursor: pointer;\n",
              "    display: none;\n",
              "    fill: var(--fill-color);\n",
              "    height: 32px;\n",
              "    padding: 0;\n",
              "    width: 32px;\n",
              "  }\n",
              "\n",
              "  .colab-df-quickchart:hover {\n",
              "    background-color: var(--hover-bg-color);\n",
              "    box-shadow: 0 1px 2px rgba(60, 64, 67, 0.3), 0 1px 3px 1px rgba(60, 64, 67, 0.15);\n",
              "    fill: var(--button-hover-fill-color);\n",
              "  }\n",
              "\n",
              "  .colab-df-quickchart-complete:disabled,\n",
              "  .colab-df-quickchart-complete:disabled:hover {\n",
              "    background-color: var(--disabled-bg-color);\n",
              "    fill: var(--disabled-fill-color);\n",
              "    box-shadow: none;\n",
              "  }\n",
              "\n",
              "  .colab-df-spinner {\n",
              "    border: 2px solid var(--fill-color);\n",
              "    border-color: transparent;\n",
              "    border-bottom-color: var(--fill-color);\n",
              "    animation:\n",
              "      spin 1s steps(1) infinite;\n",
              "  }\n",
              "\n",
              "  @keyframes spin {\n",
              "    0% {\n",
              "      border-color: transparent;\n",
              "      border-bottom-color: var(--fill-color);\n",
              "      border-left-color: var(--fill-color);\n",
              "    }\n",
              "    20% {\n",
              "      border-color: transparent;\n",
              "      border-left-color: var(--fill-color);\n",
              "      border-top-color: var(--fill-color);\n",
              "    }\n",
              "    30% {\n",
              "      border-color: transparent;\n",
              "      border-left-color: var(--fill-color);\n",
              "      border-top-color: var(--fill-color);\n",
              "      border-right-color: var(--fill-color);\n",
              "    }\n",
              "    40% {\n",
              "      border-color: transparent;\n",
              "      border-right-color: var(--fill-color);\n",
              "      border-top-color: var(--fill-color);\n",
              "    }\n",
              "    60% {\n",
              "      border-color: transparent;\n",
              "      border-right-color: var(--fill-color);\n",
              "    }\n",
              "    80% {\n",
              "      border-color: transparent;\n",
              "      border-right-color: var(--fill-color);\n",
              "      border-bottom-color: var(--fill-color);\n",
              "    }\n",
              "    90% {\n",
              "      border-color: transparent;\n",
              "      border-bottom-color: var(--fill-color);\n",
              "    }\n",
              "  }\n",
              "</style>\n",
              "\n",
              "  <script>\n",
              "    async function quickchart(key) {\n",
              "      const quickchartButtonEl =\n",
              "        document.querySelector('#' + key + ' button');\n",
              "      quickchartButtonEl.disabled = true;  // To prevent multiple clicks.\n",
              "      quickchartButtonEl.classList.add('colab-df-spinner');\n",
              "      try {\n",
              "        const charts = await google.colab.kernel.invokeFunction(\n",
              "            'suggestCharts', [key], {});\n",
              "      } catch (error) {\n",
              "        console.error('Error during call to suggestCharts:', error);\n",
              "      }\n",
              "      quickchartButtonEl.classList.remove('colab-df-spinner');\n",
              "      quickchartButtonEl.classList.add('colab-df-quickchart-complete');\n",
              "    }\n",
              "    (() => {\n",
              "      let quickchartButtonEl =\n",
              "        document.querySelector('#df-4dfcd90b-1e18-4961-8f93-3ef0d9b0ed5e button');\n",
              "      quickchartButtonEl.style.display =\n",
              "        google.colab.kernel.accessAllowed ? 'block' : 'none';\n",
              "    })();\n",
              "  </script>\n",
              "</div>\n",
              "    </div>\n",
              "  </div>\n"
            ]
          },
          "metadata": {},
          "execution_count": 46
        }
      ]
    },
    {
      "cell_type": "markdown",
      "source": [
        "# part 1.a\n",
        "\n",
        "First split the data into a feature array `x` and label array `y`\n",
        "- `x` should contain all sensor readings\n",
        "- `y` should be only the occupied column\n",
        "\n",
        "Second split the data into training and testing data with a test size of 33% using random state 42 to get the usual `x_train, x_test, y_train, y_test` datasets"
      ],
      "metadata": {
        "id": "iXLe9wpShFhX"
      }
    },
    {
      "cell_type": "code",
      "source": [
        "# make x and y\n",
        "x = occ.drop('occupied', axis=1)  # drop occupied, do it on the column\n",
        "y = occ['occupied']\n",
        "print(y.tail())\n",
        "\n",
        "# split intro train and test\n",
        "from sklearn.model_selection import train_test_split\n",
        "x_train, x_test, y_train, y_test = train_test_split(x, y, test_size=.33, random_state=42)\n"
      ],
      "metadata": {
        "id": "w9-dSdmmvCX9",
        "colab": {
          "base_uri": "https://localhost:8080/"
        },
        "outputId": "742b4007-f2d6-4d4e-a4f8-306a49a3def6"
      },
      "execution_count": null,
      "outputs": [
        {
          "output_type": "stream",
          "name": "stdout",
          "text": [
            "10124    0\n",
            "10125    0\n",
            "10126    0\n",
            "10127    0\n",
            "10128    0\n",
            "Name: occupied, dtype: int64\n"
          ]
        }
      ]
    },
    {
      "cell_type": "markdown",
      "source": [
        "# part 1.b\n",
        "\n",
        "Train Logistic regression, LDA, QDA, and Naive Bayes classifiers\n",
        "\n",
        "1. Compute the Brier score and Log score for each method on the test dataset\n",
        "2. Which model has better Brier score? Which has better log score?"
      ],
      "metadata": {
        "id": "q8t0JjKIhdrG"
      }
    },
    {
      "cell_type": "code",
      "source": [
        "from sklearn.linear_model import LogisticRegression\n",
        "from sklearn.discriminant_analysis import LinearDiscriminantAnalysis as LDA\n",
        "from sklearn.discriminant_analysis import QuadraticDiscriminantAnalysis as QDA\n",
        "from sklearn.naive_bayes import GaussianNB\n",
        "# fit models\n",
        "  #Logistic Regression:\n",
        "logistic_model = LogisticRegression()\n",
        "logistic_model.fit(x_train, y_train)#fitting the model\n",
        "\n",
        "  #LDA:\n",
        "lda = LDA()\n",
        "lda.fit(x_train, y_train)\n",
        "\n",
        "  #QDA:\n",
        "qda =QDA()\n",
        "qda.fit(x_train, y_train)\n",
        "\n",
        "  #Naive Bayes:\n",
        "gnb = GaussianNB()\n",
        "gnb.fit(x_train, y_train)"
      ],
      "metadata": {
        "id": "1v7XJb1XuT-b",
        "colab": {
          "base_uri": "https://localhost:8080/",
          "height": 75
        },
        "outputId": "5f6b20c1-2d57-46c6-b653-b5660c2b45d9"
      },
      "execution_count": null,
      "outputs": [
        {
          "output_type": "execute_result",
          "data": {
            "text/plain": [
              "GaussianNB()"
            ],
            "text/html": [
              "<style>#sk-container-id-3 {color: black;background-color: white;}#sk-container-id-3 pre{padding: 0;}#sk-container-id-3 div.sk-toggleable {background-color: white;}#sk-container-id-3 label.sk-toggleable__label {cursor: pointer;display: block;width: 100%;margin-bottom: 0;padding: 0.3em;box-sizing: border-box;text-align: center;}#sk-container-id-3 label.sk-toggleable__label-arrow:before {content: \"▸\";float: left;margin-right: 0.25em;color: #696969;}#sk-container-id-3 label.sk-toggleable__label-arrow:hover:before {color: black;}#sk-container-id-3 div.sk-estimator:hover label.sk-toggleable__label-arrow:before {color: black;}#sk-container-id-3 div.sk-toggleable__content {max-height: 0;max-width: 0;overflow: hidden;text-align: left;background-color: #f0f8ff;}#sk-container-id-3 div.sk-toggleable__content pre {margin: 0.2em;color: black;border-radius: 0.25em;background-color: #f0f8ff;}#sk-container-id-3 input.sk-toggleable__control:checked~div.sk-toggleable__content {max-height: 200px;max-width: 100%;overflow: auto;}#sk-container-id-3 input.sk-toggleable__control:checked~label.sk-toggleable__label-arrow:before {content: \"▾\";}#sk-container-id-3 div.sk-estimator input.sk-toggleable__control:checked~label.sk-toggleable__label {background-color: #d4ebff;}#sk-container-id-3 div.sk-label input.sk-toggleable__control:checked~label.sk-toggleable__label {background-color: #d4ebff;}#sk-container-id-3 input.sk-hidden--visually {border: 0;clip: rect(1px 1px 1px 1px);clip: rect(1px, 1px, 1px, 1px);height: 1px;margin: -1px;overflow: hidden;padding: 0;position: absolute;width: 1px;}#sk-container-id-3 div.sk-estimator {font-family: monospace;background-color: #f0f8ff;border: 1px dotted black;border-radius: 0.25em;box-sizing: border-box;margin-bottom: 0.5em;}#sk-container-id-3 div.sk-estimator:hover {background-color: #d4ebff;}#sk-container-id-3 div.sk-parallel-item::after {content: \"\";width: 100%;border-bottom: 1px solid gray;flex-grow: 1;}#sk-container-id-3 div.sk-label:hover label.sk-toggleable__label {background-color: #d4ebff;}#sk-container-id-3 div.sk-serial::before {content: \"\";position: absolute;border-left: 1px solid gray;box-sizing: border-box;top: 0;bottom: 0;left: 50%;z-index: 0;}#sk-container-id-3 div.sk-serial {display: flex;flex-direction: column;align-items: center;background-color: white;padding-right: 0.2em;padding-left: 0.2em;position: relative;}#sk-container-id-3 div.sk-item {position: relative;z-index: 1;}#sk-container-id-3 div.sk-parallel {display: flex;align-items: stretch;justify-content: center;background-color: white;position: relative;}#sk-container-id-3 div.sk-item::before, #sk-container-id-3 div.sk-parallel-item::before {content: \"\";position: absolute;border-left: 1px solid gray;box-sizing: border-box;top: 0;bottom: 0;left: 50%;z-index: -1;}#sk-container-id-3 div.sk-parallel-item {display: flex;flex-direction: column;z-index: 1;position: relative;background-color: white;}#sk-container-id-3 div.sk-parallel-item:first-child::after {align-self: flex-end;width: 50%;}#sk-container-id-3 div.sk-parallel-item:last-child::after {align-self: flex-start;width: 50%;}#sk-container-id-3 div.sk-parallel-item:only-child::after {width: 0;}#sk-container-id-3 div.sk-dashed-wrapped {border: 1px dashed gray;margin: 0 0.4em 0.5em 0.4em;box-sizing: border-box;padding-bottom: 0.4em;background-color: white;}#sk-container-id-3 div.sk-label label {font-family: monospace;font-weight: bold;display: inline-block;line-height: 1.2em;}#sk-container-id-3 div.sk-label-container {text-align: center;}#sk-container-id-3 div.sk-container {/* jupyter's `normalize.less` sets `[hidden] { display: none; }` but bootstrap.min.css set `[hidden] { display: none !important; }` so we also need the `!important` here to be able to override the default hidden behavior on the sphinx rendered scikit-learn.org. See: https://github.com/scikit-learn/scikit-learn/issues/21755 */display: inline-block !important;position: relative;}#sk-container-id-3 div.sk-text-repr-fallback {display: none;}</style><div id=\"sk-container-id-3\" class=\"sk-top-container\"><div class=\"sk-text-repr-fallback\"><pre>GaussianNB()</pre><b>In a Jupyter environment, please rerun this cell to show the HTML representation or trust the notebook. <br />On GitHub, the HTML representation is unable to render, please try loading this page with nbviewer.org.</b></div><div class=\"sk-container\" hidden><div class=\"sk-item\"><div class=\"sk-estimator sk-toggleable\"><input class=\"sk-toggleable__control sk-hidden--visually\" id=\"sk-estimator-id-3\" type=\"checkbox\" checked><label for=\"sk-estimator-id-3\" class=\"sk-toggleable__label sk-toggleable__label-arrow\">GaussianNB</label><div class=\"sk-toggleable__content\"><pre>GaussianNB()</pre></div></div></div></div></div>"
            ]
          },
          "metadata": {},
          "execution_count": 48
        }
      ]
    },
    {
      "cell_type": "code",
      "source": [
        "# predict probabilities\n",
        "  #Logistic Regression:\n",
        "p_hat_lm = logistic_model.predict_proba(x_test)\n",
        "\n",
        "  #LDA\n",
        "p_hat_lda = lda.predict_proba(x_test)\n",
        "\n",
        "  #QDA\n",
        "p_hat_qda = qda.predict_proba(x_test)\n",
        "\n",
        "  #Naive Bayes\n",
        "p_hat_gnb = gnb.predict_proba(x_test)\n",
        "\n",
        "\n"
      ],
      "metadata": {
        "id": "uniq9SX7wCm2"
      },
      "execution_count": null,
      "outputs": []
    },
    {
      "cell_type": "code",
      "source": [
        "from sklearn.calibration import calibration_curve\n",
        "# predict labels\n",
        "yhat_lm=logistic_model.predict(x_test)\n",
        "yhat_lda=lda.predict(x_test)\n",
        "yhat_qda=qda.predict(x_test)\n",
        "yhat_gnb=gnb.predict(x_test)\n",
        "\n"
      ],
      "metadata": {
        "id": "bg05YKjnpYsU"
      },
      "execution_count": null,
      "outputs": []
    },
    {
      "cell_type": "code",
      "source": [
        "print('Brier score')\n",
        "print('')\n",
        "print('LDA:', np.round(brier_score(y_test, p_hat_lda), 3))\n",
        "print('QDA:', np.round(brier_score(y_test, p_hat_qda), 3))\n",
        "print('LR:', np.round(brier_score(y_test, p_hat_lm), 3))\n",
        "print('GNB:', np.round(brier_score(y_test, p_hat_gnb), 3))"
      ],
      "metadata": {
        "colab": {
          "base_uri": "https://localhost:8080/"
        },
        "id": "VR-Xg3SJyAzV",
        "outputId": "dffa750d-464f-4874-8852-9468ce90fa77"
      },
      "execution_count": null,
      "outputs": [
        {
          "output_type": "stream",
          "name": "stdout",
          "text": [
            "Brier score\n",
            "\n",
            "LDA: 0.035\n",
            "QDA: 0.034\n",
            "LR: 0.012\n",
            "GNB: 0.073\n"
          ]
        }
      ]
    },
    {
      "cell_type": "code",
      "source": [
        "print('Log score')\n",
        "print('')\n",
        "print('LDA:', np.round(log_score(y_test, p_hat_lda), 3))\n",
        "print('QDA:', np.round(log_score(y_test, p_hat_qda), 3))\n",
        "print('LR:', np.round(log_score(y_test, p_hat_lm), 3))\n",
        "print('GNB:', np.round(log_score(y_test, p_hat_gnb), 3))"
      ],
      "metadata": {
        "colab": {
          "base_uri": "https://localhost:8080/"
        },
        "id": "yeuDz_8Px7kf",
        "outputId": "83e8a716-4df0-4794-88dd-ef4995719485"
      },
      "execution_count": null,
      "outputs": [
        {
          "output_type": "stream",
          "name": "stdout",
          "text": [
            "Log score\n",
            "\n",
            "LDA: 0.34\n",
            "QDA: 0.709\n",
            "LR: 0.024\n",
            "GNB: 0.714\n"
          ]
        }
      ]
    },
    {
      "cell_type": "markdown",
      "source": [
        "Which model is better?\n",
        "\n",
        "When you just look at the Brier score the Logistic Regression model is the best model to choose since you want the model with the lowest score. So **Logistic Regression** since the model's probabilities are closer to the truth.\n",
        "\n",
        "Now, when you only look at the Log score you choose the highest score. In this case you choose **Naive Bayes**. Since Log score assess a model reliability level you want a more reliable model so you choose the higher score.\n",
        "\n"
      ],
      "metadata": {
        "id": "wM-vebM1rHIL"
      }
    },
    {
      "cell_type": "markdown",
      "source": [
        "# part 1.c\n",
        "\n",
        "Compute the precision, recall, and F1 score of each method for each target category (1 and 0).\n",
        "\n",
        "1. Summarize these metrics in tables (one for each model)\n",
        "2. Which model has the highest average F1 score?\n",
        "The model with the highest F1 score between class 0 and 1 is Logistic Regression."
      ],
      "metadata": {
        "id": "iDmO61p8h4iE"
      }
    },
    {
      "cell_type": "code",
      "source": [
        "from sklearn.metrics import classification_report\n",
        "\n",
        "# function to generate and display reports\n",
        "def generate_classification_report(y_true, y_pred, model_name):\n",
        "    report = classification_report(y_true, y_pred, target_names=['Class 0', 'Class 1'], output_dict=True)\n",
        "    df = pd.DataFrame(report).transpose()\n",
        "    df['Model'] = model_name\n",
        "    return df\n",
        "\n",
        "# reports for each model\n",
        "report_lm = generate_classification_report(y_test, yhat_lm, 'Logistic Regression')\n",
        "report_lda = generate_classification_report(y_test, yhat_lda, 'LDA')\n",
        "report_qda = generate_classification_report(y_test, yhat_qda, 'QDA')\n",
        "report_gnb = generate_classification_report(y_test, yhat_gnb, 'Naive Bayes')\n",
        "\n",
        "# get the reports into a single DataFrame\n",
        "result_df = pd.concat([report_lm, report_lda, report_qda, report_gnb])\n",
        "\n",
        "# result\n",
        "print(result_df)\n"
      ],
      "metadata": {
        "id": "KgBUA-TviSU-",
        "colab": {
          "base_uri": "https://localhost:8080/"
        },
        "outputId": "567c433c-3417-44fa-b5ca-08653f46c93c"
      },
      "execution_count": null,
      "outputs": [
        {
          "output_type": "stream",
          "name": "stdout",
          "text": [
            "              precision    recall  f1-score      support                Model\n",
            "Class 0        0.997770  0.994444  0.996105  2700.000000  Logistic Regression\n",
            "Class 1        0.976994  0.990669  0.983784   643.000000  Logistic Regression\n",
            "accuracy       0.993718  0.993718  0.993718     0.993718  Logistic Regression\n",
            "macro avg      0.987382  0.992557  0.989944  3343.000000  Logistic Regression\n",
            "weighted avg   0.993774  0.993718  0.993735  3343.000000  Logistic Regression\n",
            "Class 0        0.979318  0.999630  0.989370  2700.000000                  LDA\n",
            "Class 1        0.998296  0.911353  0.952846   643.000000                  LDA\n",
            "accuracy       0.982650  0.982650  0.982650     0.982650                  LDA\n",
            "macro avg      0.988807  0.955491  0.971108  3343.000000                  LDA\n",
            "weighted avg   0.982968  0.982650  0.982344  3343.000000                  LDA\n",
            "Class 0        0.981077  0.998519  0.989721  2700.000000                  QDA\n",
            "Class 1        0.993277  0.919129  0.954766   643.000000                  QDA\n",
            "accuracy       0.983249  0.983249  0.983249     0.983249                  QDA\n",
            "macro avg      0.987177  0.958824  0.972243  3343.000000                  QDA\n",
            "weighted avg   0.983424  0.983249  0.982998  3343.000000                  QDA\n",
            "Class 0        0.980885  0.969259  0.975037  2700.000000          Naive Bayes\n",
            "Class 1        0.877037  0.920684  0.898331   643.000000          Naive Bayes\n",
            "accuracy       0.959916  0.959916  0.959916     0.959916          Naive Bayes\n",
            "macro avg      0.928961  0.944972  0.936684  3343.000000          Naive Bayes\n",
            "weighted avg   0.960910  0.959916  0.960283  3343.000000          Naive Bayes\n"
          ]
        }
      ]
    },
    {
      "cell_type": "markdown",
      "source": [
        "Which model is better?\n",
        "**Logistic Regression** is better based on the report and the F1-score. Also the precision and recall are extremely high for both classes in the logistic regression model."
      ],
      "metadata": {
        "id": "QZmo2f7vrNQK"
      }
    },
    {
      "cell_type": "markdown",
      "source": [
        "# part 1.d\n",
        "\n",
        "Now lets look at the tradeoff between sensitivity and specificty. Create a ROC curve for each model and display them in a single plot.\n",
        "\n",
        "1. Which model has a higher AUC?\n",
        "2. Are these models close to perfect?"
      ],
      "metadata": {
        "id": "XrTUXRbGid-1"
      }
    },
    {
      "cell_type": "code",
      "source": [
        "# compute roc curves for each method. Store fpr, tpr, and thresholds\n",
        "from sklearn.metrics import roc_curve, roc_auc_score\n",
        "fpr_lda, tpr_lda, thresholds = roc_curve(y_test, p_hat_lda[:,1])\n",
        "fpr_qda, tpr_qda, thresholds = roc_curve(y_test, p_hat_qda[:,1])\n",
        "fpr_lm, tpr_lm, thresholds = roc_curve(y_test, p_hat_lm[:,1])\n",
        "fpr_gnb, tpr_gnb, thresholds = roc_curve(y_test, p_hat_gnb[:,1])"
      ],
      "metadata": {
        "id": "tekZrYrdv9In"
      },
      "execution_count": null,
      "outputs": []
    },
    {
      "cell_type": "code",
      "source": [
        "# plt each roc curve on the same figure\n",
        "plt.figure(figsize=(9, 6))\n",
        "plt.plot(fpr_lda, tpr_lda, label='LDA')\n",
        "plt.plot(fpr_qda, tpr_qda, label='QDA')\n",
        "plt.plot(fpr_lm, tpr_lm, label='Logistic')\n",
        "plt.plot(fpr_gnb, tpr_gnb, label='Naive Bayes')\n",
        "\n",
        "plt.xlabel('False Positive Rate', fontsize=15)\n",
        "plt.ylabel('True Positive Rate', fontsize=15)\n",
        "\n",
        "plt.legend(fontsize=15)\n",
        "plt.show()"
      ],
      "metadata": {
        "id": "drV-_OwRviMD",
        "colab": {
          "base_uri": "https://localhost:8080/",
          "height": 548
        },
        "outputId": "4deda44a-516b-4b07-869c-544e8b880e2a"
      },
      "execution_count": null,
      "outputs": [
        {
          "output_type": "display_data",
          "data": {
            "text/plain": [
              "<Figure size 900x600 with 1 Axes>"
            ],
            "image/png": "[encoded data removed]"
          },
          "metadata": {}
        }
      ]
    },
    {
      "cell_type": "markdown",
      "source": [
        "**Below is a zoomed in view of the top left corner.**"
      ],
      "metadata": {
        "id": "IlHZ5qzoC0V6"
      }
    },
    {
      "cell_type": "code",
      "source": [
        "import matplotlib.pyplot as plt\n",
        "\n",
        "plt.figure(figsize=(9, 6))\n",
        "\n",
        "# Replotting\n",
        "plt.plot(fpr_lda, tpr_lda, label='LDA')\n",
        "plt.plot(fpr_qda, tpr_qda, label='QDA')\n",
        "plt.plot(fpr_lm, tpr_lm, label='Logistic')\n",
        "plt.plot(fpr_gnb, tpr_gnb, label='Naive Bayes')\n",
        "\n",
        "plt.xlabel('False Positive Rate', fontsize=15)\n",
        "plt.ylabel('True Positive Rate', fontsize=15)\n",
        "\n",
        "plt.legend(fontsize=15)\n",
        "\n",
        "# Set the axis limits to zoom in\n",
        "plt.xlim([0, 0.2])\n",
        "plt.ylim([0.8, 1])\n",
        "\n",
        "plt.show()\n"
      ],
      "metadata": {
        "colab": {
          "base_uri": "https://localhost:8080/",
          "height": 553
        },
        "id": "wdQha8MnB5UO",
        "outputId": "8b9f1862-b7f7-4c20-b2f3-4081e407a843"
      },
      "execution_count": null,
      "outputs": [
        {
          "output_type": "display_data",
          "data": {
            "text/plain": [
              "<Figure size 900x600 with 1 Axes>"
            ],
            "image/png": "[encoded data removed]"
          },
          "metadata": {}
        }
      ]
    },
    {
      "cell_type": "code",
      "source": [
        "print('Area under the curve (AUC)')\n",
        "print('')\n",
        "print('LDA:', np.round(roc_auc_score(y_test, p_hat_lda[:,1]), 3))\n",
        "print('QDA:', np.round(roc_auc_score(y_test, p_hat_qda[:,1]), 3))\n",
        "print('LR:', np.round(roc_auc_score(y_test, p_hat_lm[:,1]), 3))\n",
        "print('Naive Bayes:', np.round(roc_auc_score(y_test, p_hat_gnb[:,1]), 3))"
      ],
      "metadata": {
        "colab": {
          "base_uri": "https://localhost:8080/"
        },
        "id": "DVPiYI15C9fS",
        "outputId": "47845d89-8c4f-4a45-8d24-73aea6e3cc5f"
      },
      "execution_count": null,
      "outputs": [
        {
          "output_type": "stream",
          "name": "stdout",
          "text": [
            "Area under the curve (AUC)\n",
            "\n",
            "LDA: 0.999\n",
            "QDA: 0.997\n",
            "LR: 0.999\n",
            "Naive Bayes: 0.989\n"
          ]
        }
      ]
    },
    {
      "cell_type": "markdown",
      "source": [
        "The model with the higher AUC are both LDA nad Logistic Regression which are tied at 0.999.\n",
        "\n",
        "Because an AUC score of 1 is a perfect model and these are very close to one all 4 models are considered close to perfect. They are very good at distinguishing between classes."
      ],
      "metadata": {
        "id": "r49S9C5CDJWF"
      }
    },
    {
      "cell_type": "markdown",
      "source": [
        "# part 1.e\n",
        "\n",
        "Create a calibration curve for each model with at least 20 bins using quantile binning.\n",
        "\n",
        "1. Plot and label the calibration curves. Include a line to represent perfect calibration.\n",
        "2. Which model is the most calibrated?\n"
      ],
      "metadata": {
        "id": "JgImfcp_i2QG"
      }
    },
    {
      "cell_type": "code",
      "source": [
        "# compute calibration curves for each model\n",
        "true_lda, pred_lda = calibration_curve(y_test, p_hat_lda[:,1], n_bins=20, strategy='quantile')\n",
        "true_qda, pred_qda = calibration_curve(y_test, p_hat_qda[:,1], n_bins=20, strategy='quantile')\n",
        "true_lm, pred_lm = calibration_curve(y_test, p_hat_lm[:,1], n_bins=20, strategy='quantile')\n",
        "true_gnb, pred_gnb = calibration_curve(y_test, p_hat_gnb[:,1], n_bins=20, strategy='quantile')"
      ],
      "metadata": {
        "id": "HOw1dOlExgvL"
      },
      "execution_count": null,
      "outputs": []
    },
    {
      "cell_type": "code",
      "source": [
        "# plot each calibration curve on the same figure\n",
        "custom_pink = (255/255, 20/255, 147/255)\n",
        "plt.figure(figsize = (10, 6))\n",
        "plt.plot([1,0], [1,0], color = custom_pink, label = 'Perfect')\n",
        "plt.plot(pred_lm, true_lm, marker='o', label = 'Logistic')\n",
        "plt.plot(pred_lda, true_lda, marker='o', label = 'LDA')\n",
        "plt.plot(pred_qda, true_qda, marker='o', label = 'QDA')\n",
        "plt.xlabel('Predicted Probability', fontsize = 15)\n",
        "plt.ylabel('Observed Probability', fontsize = 15)\n",
        "plt.legend(fontsize = 15)\n",
        "plt.show()"
      ],
      "metadata": {
        "id": "QV6g3B4oxxY7",
        "colab": {
          "base_uri": "https://localhost:8080/",
          "height": 548
        },
        "outputId": "63504ee0-0393-4271-d4e0-20854c95b0a2"
      },
      "execution_count": null,
      "outputs": [
        {
          "output_type": "display_data",
          "data": {
            "text/plain": [
              "<Figure size 1000x600 with 1 Axes>"
            ],
            "image/png": "[encoded data removed]"
          },
          "metadata": {}
        }
      ]
    },
    {
      "cell_type": "markdown",
      "source": [
        "The Logistic Regression model is most calibrated since it more closely follows the perfect line upon visual inspection."
      ],
      "metadata": {
        "id": "mhacPhiDHoWo"
      }
    },
    {
      "cell_type": "markdown",
      "source": [
        "# part 1.f\n",
        "\n",
        "You find that the system works!\n",
        "\n",
        "\n",
        "The only thing is these sensors are kind of expensive. Perhaps we can get similar performance with less sensors? That way the whole system will be cheaper and perhaps more people will buy it.\n",
        "\n",
        "Test each sensor individually (using all three measurements) to see if you can build a classifier that is nearly as good as a classifier that uses all sensors.\n",
        "\n",
        "\n",
        "1. Refit each model using only the data from a single sensor. For example if you want to use only sensor 1's data then only inlcude `['S1_Temp', 'S1_Light', 'S1_Sound']` as features. Save the Brier and log score for each model and each sensor. Print as a table so that I can tell what the brier and log score are for each model using each sensor.\n",
        "1. Which sensor is best? Does it depend on the chosen model (Naive Bayes, LDA, QDA, vs Logistic Regression)?\n",
        "2. How much does using the best sensor increase the Brier / log score and decrease the F1 score compared to using all sensors simultaneously?\n",
        "\n"
      ],
      "metadata": {
        "id": "8wqDEtDwI3yK"
      }
    },
    {
      "cell_type": "code",
      "source": [
        "\n",
        "brier_scores = {'Logistic': [], 'LDA': [], 'QDA': [], 'Naive Bayes': []}\n",
        "log_scores = {'Logistic': [], 'LDA': [], 'QDA': [], 'Naive Bayes': []}\n",
        "\n",
        "sensors = ['S1', 'S2', 'S3', 'S4']\n",
        "\n",
        "for sensor in sensors:\n",
        "    # get data for each sensor\n",
        "    sensor_data = occ.loc[:, [f'{sensor}_Temp', f'{sensor}_Light', f'{sensor}_Sound']]\n",
        "    sensor_target = occ.loc[:, ['occupied']]\n",
        "\n",
        "    # Split into test and train datasets\n",
        "    x_train, x_test, y_train, y_test = train_test_split(sensor_data, sensor_target, test_size=0.33, random_state=42)\n",
        "\n",
        "    # Fit the models for the current sensor\n",
        "    logistic_model.fit(x_train, y_train)\n",
        "    lda.fit(x_train, y_train)\n",
        "    qda.fit(x_train, y_train)\n",
        "    gnb.fit(x_train, y_train)\n",
        "\n",
        "    # Predict probabilities\n",
        "    p_hat_lm = logistic_model.predict_proba(x_test)\n",
        "    p_hat_lda = lda.predict_proba(x_test)\n",
        "    p_hat_qda = qda.predict_proba(x_test)\n",
        "    p_hat_gnb = gnb.predict_proba(x_test)\n",
        "\n",
        "    # Calculate Brier scores\n",
        "    brier_scores['Logistic'].append(brier_score(y_test, p_hat_lm))\n",
        "    brier_scores['LDA'].append(brier_score(y_test, p_hat_lda))\n",
        "    brier_scores['QDA'].append(brier_score(y_test, p_hat_qda))\n",
        "    brier_scores['Naive Bayes'].append(brier_score(y_test, p_hat_gnb))\n",
        "\n",
        "    # Calculate log scores\n",
        "    log_scores['Logistic'].append(log_score(y_test, p_hat_lm))\n",
        "    log_scores['LDA'].append(log_score(y_test, p_hat_lda))\n",
        "    log_scores['QDA'].append(log_score(y_test, p_hat_qda))\n",
        "    log_scores['Naive Bayes'].append(log_score(y_test, p_hat_gnb))"
      ],
      "metadata": {
        "id": "hEJh5fgUEf7f"
      },
      "execution_count": null,
      "outputs": []
    },
    {
      "cell_type": "code",
      "source": [
        "\n",
        "#create 2 df to display the scores\n",
        "brier_df = pd.DataFrame(brier_scores, index=sensors)#pd.DataFrame(data, index, columns)\n",
        "log_df = pd.DataFrame(log_scores, index=sensors)\n",
        "\n",
        "# Print scores in 2 tables\n",
        "print(\"Brier Scores:\")\n",
        "print(brier_df)\n",
        "print(\"\\nLog Scores:\")\n",
        "print(log_df)"
      ],
      "metadata": {
        "id": "mXhqxK1Es40S",
        "colab": {
          "base_uri": "https://localhost:8080/"
        },
        "outputId": "9b31e593-b5e6-4e46-8e60-23bf64d72d6d"
      },
      "execution_count": null,
      "outputs": [
        {
          "output_type": "stream",
          "name": "stdout",
          "text": [
            "Brier Scores:\n",
            "    Logistic       LDA       QDA  Naive Bayes\n",
            "S1  0.033703  0.034698  0.077676     0.077708\n",
            "S2  0.077324  0.184969  0.085105     0.097229\n",
            "S3  0.150879  0.172653  0.188662     0.189242\n",
            "S4  0.229926  0.242542  0.290220     0.304216\n",
            "\n",
            "Log Scores:\n",
            "    Logistic       LDA       QDA  Naive Bayes\n",
            "S1  0.080004  0.346398  0.372975     0.414331\n",
            "S2  0.125676  0.362528  0.283945     0.337529\n",
            "S3  0.229199  0.301865  0.462406     0.482738\n",
            "S4  0.349108  0.368570  0.501841     0.536367\n"
          ]
        }
      ]
    },
    {
      "cell_type": "markdown",
      "source": [
        "# part 1.g\n",
        "\n",
        "Regardless of your findings above, suppose sensor 1 is the only one available due to supply chain issues.\n",
        "\n",
        "You wonder if all three measurements are even necessary. Using sensor 1, see if any of the measurements (Temp, Light, or Sound) can be dropped from the model without significantly deteriorating performance. Significant deterioration is defined as an increase in test Brier of 5%.\n",
        "\n",
        "\n",
        "1. Can you achieve a Brier score (on test), using only 1 or 2 variables,  that is within 5% of the Brier score of the model using all 3?\n",
        "2. Which variables are they?"
      ],
      "metadata": {
        "id": "MzWlOl4aI6fY"
      }
    },
    {
      "cell_type": "markdown",
      "source": [
        "<font color='red'>**This question does not specify which model to utilize and does not say to test multiple models so I chose Logistic Regression.**</font>\n"
      ],
      "metadata": {
        "id": "K5LoCIZ5poiZ"
      }
    },
    {
      "cell_type": "code",
      "source": [
        "from sklearn.linear_model import LogisticRegression\n",
        "from sklearn.model_selection import train_test_split\n",
        "# from sklearn.metrics import brier_score\n",
        "\n",
        "# Split the data into features and target\n",
        "X = occ[['S1_Temp', 'S1_Light', 'S1_Sound']]\n",
        "y = occ['occupied']\n",
        "\n",
        "# Split the data into training and test sets\n",
        "X_train, X_test, y_train, y_test = train_test_split(X, y, test_size=.33, random_state=42)\n",
        "\n",
        "# Baseline model\n",
        "baseline_model = LogisticRegression(random_state=42)\n",
        "baseline_model.fit(X_train, y_train)\n",
        "baseline_pred = baseline_model.predict_proba(X_test)[:, 1]\n",
        "baseline_brier = brier_score(y_test.ravel(), baseline_pred.reshape(-1, 1))\n",
        "\n",
        "# Models with only one variable\n",
        "variables = ['S1_Temp', 'S1_Light', 'S1_Sound']\n",
        "brier_scores = []\n",
        "\n",
        "for variable in variables:\n",
        "    model = LogisticRegression(random_state=42)\n",
        "    model.fit(X_train[[variable]], y_train)\n",
        "    pred = model.predict_proba(X_test[[variable]])[:, 1]\n",
        "    brier = brier_score(y_test.ravel(), pred.reshape(-1, 1))\n",
        "    brier_scores.append(brier)\n",
        "\n",
        "# Compare Brier scores\n",
        "for i, variable in enumerate(variables):\n",
        "    if (baseline_brier - brier_scores[i]) / baseline_brier <= 0.05:\n",
        "        print(f\"{variable} could be dropped because the Brier score is within 5% of the model.\")\n"
      ],
      "metadata": {
        "id": "YZWJHGNmlH2_",
        "colab": {
          "base_uri": "https://localhost:8080/"
        },
        "outputId": "4556ae50-1ee3-4013-f368-eaa0cd59cb9a"
      },
      "execution_count": null,
      "outputs": [
        {
          "output_type": "stream",
          "name": "stdout",
          "text": [
            "S1_Light could be dropped because the Brier score is within 5% of the model.\n"
          ]
        }
      ]
    },
    {
      "cell_type": "markdown",
      "source": [
        "So keep Temperature and Sound in sensor 1."
      ],
      "metadata": {
        "id": "I0Ht0f484nMd"
      }
    },
    {
      "cell_type": "markdown",
      "source": [
        "# part 1.h\n",
        "\n",
        "Now were going even cheaper -- noisy instruments\n",
        "\n",
        "Your boss says she knows this great factory that produces much cheaper sensors that are \"just as good\". You go on their website and find that that isnt quite true. It turns out\n",
        "\n",
        "- They only make sensor 1\n",
        "- They can't measure sound, but they can measure light and temp.\n",
        "- They produce noisy readings.\n",
        "\n",
        "\n",
        "Thankfully you can customize your order by how (cheap) noisy the sensor readings. Sensors that cost more have less noise. Sensors that cost less have more noise.\n",
        "\n",
        "In the code below the `scale` variable determines how noisy (cheap) your sensor is. (Do not modify the rest of this code).\n",
        "\n",
        "You want to order as cheaply as possible without compromising on quality, so you want to figure out how high you can set the `scale` value.\n",
        "\n",
        "1. Increase the `scale` parameter until your test Brier score is just under 0.05 and precision of the positive class is still at least 0.98.\n",
        "2. What is the highest `scale` value to the nearest 0.1 that achieves this?\n"
      ],
      "metadata": {
        "id": "it-cEQKgbaoy"
      }
    },
    {
      "cell_type": "markdown",
      "source": [
        "<font color='red'>**This question does not specify which model to utilize and does not say to test multiple models so I chose Logistic Regression.**</font>\n"
      ],
      "metadata": {
        "id": "CXVCTPN_5yY9"
      }
    },
    {
      "cell_type": "code",
      "source": [
        "# Use temp and light since they're available\n",
        "x = np.array(occ.loc[:, ['S1_Temp', 'S1_Light']])\n",
        "\n",
        "### noisy instruments (reduces signal strength by 4 and adds white noise)\n",
        "np.random.seed(0)\n",
        "scale = 0.0\n",
        "x = x / 4 + np.random.normal(scale = scale, size = x.shape)\n",
        "\n",
        "# occ['occupied'] = occ['Room_Occupancy_Count']\n",
        "y = occ.loc[:,['occupied']]\n",
        "\n",
        "x_train, x_test, y_train, y_test = train_test_split(x, y, test_size=0.33, random_state=42)\n"
      ],
      "metadata": {
        "id": "2kwV68OUbhzI"
      },
      "execution_count": null,
      "outputs": []
    },
    {
      "cell_type": "code",
      "source": [
        "# fit the models\n",
        "# Compute Brier scores\n",
        "# Compute precision\n",
        "from sklearn.metrics import brier_score_loss, precision_score\n",
        "best_scale = None\n",
        "best_brier_score = 1.0\n",
        "best_precision = 0.0\n",
        "target_brier_score = 0.05\n",
        "target_precision = 0.98\n",
        "\n",
        "for scale in np.arange(0.0, 2.0, 0.1):\n",
        "\n",
        "    x_noisy = x / 4 + np.random.normal(scale=scale, size=x.shape)\n",
        "\n",
        "    # Train regression model\n",
        "    model = LogisticRegression(random_state=42)\n",
        "    model.fit(x_train, y_train)\n",
        "\n",
        "    # Make predictions\n",
        "    y_pred = model.predict(x_test)\n",
        "\n",
        "    # Calculate Brier score and precision\n",
        "    brier = brier_score_loss(y_test, y_pred)\n",
        "    precision = precision_score(y_test, y_pred)\n",
        "\n",
        "    # Check if the current scale value meets the criteria\n",
        "    if brier < target_brier_score and precision >= target_precision:\n",
        "        best_scale = scale\n",
        "        best_brier_score = brier\n",
        "        best_precision = precision\n",
        "\n",
        "print(\"Best Scale Value:\", round(best_scale, 1))\n"
      ],
      "metadata": {
        "id": "Jy9aNT29briR",
        "colab": {
          "base_uri": "https://localhost:8080/"
        },
        "outputId": "34ac1db0-89f9-4db1-f5f5-dc5e22ddc5f8"
      },
      "execution_count": null,
      "outputs": [
        {
          "output_type": "stream",
          "name": "stdout",
          "text": [
            "Best Scale Value: 1.9\n"
          ]
        }
      ]
    },
    {
      "cell_type": "markdown",
      "source": [
        "# Question 2. Classifying images\n",
        "\n",
        "Now we work for a clothing company and we want to identify images of different kinds of shoes. Specifically, given an image of either \"Sandals\", \"Sneakers\", and \"Ankle Boots\" we want to label the image correctly.\n",
        "\n",
        "We go down to the IT department and ask the IT guy for some data. He grumbles and briefly pauses _Hunter x Hunter_ to send us \"some data\". It turns out he sent us a lot more than we asked for. We receive a dataset of 60000 images containing \"Sandals\", \"Sneakers\", and \"Ankle Boots\" but also 7 other kinds of images.\n",
        "\n",
        "Use the following code to download the data. If you are on google colab you will not need to install any new packages and you can just run the code. If you are not on google colab then install the following packages with\n",
        "\n",
        "`pip3 install torch torchvision torchaudio`\n",
        "\n",
        "and then run the code."
      ],
      "metadata": {
        "id": "pENQE5XLnUWy"
      }
    },
    {
      "cell_type": "code",
      "source": [
        "import torch\n",
        "from torch.utils.data import Dataset\n",
        "from torchvision import datasets\n",
        "from torchvision.transforms import ToTensor\n",
        "\n",
        "from tqdm.notebook import tqdm\n",
        "from tqdm.notebook import trange"
      ],
      "metadata": {
        "id": "ItguwXTBcNJn"
      },
      "execution_count": null,
      "outputs": []
    },
    {
      "cell_type": "code",
      "source": [
        "training_data = datasets.FashionMNIST(\n",
        "    root=\"data\",\n",
        "    train=True,\n",
        "    download=True,\n",
        "    transform=ToTensor()\n",
        ")"
      ],
      "metadata": {
        "id": "_lzDXsy1Yhh6"
      },
      "execution_count": null,
      "outputs": []
    },
    {
      "cell_type": "markdown",
      "source": [
        "# part 2.a\n",
        "\n",
        "After brief inspection we find that the Fashion MNIST dataset contains 9 classes\n",
        "\n",
        "Label Map\n",
        "\n",
        "0 : \"T-Shirt\"\n",
        "\n",
        "1: \"Trouser\"\n",
        "\n",
        "2: \"Pullover\"\n",
        "\n",
        "3: \"Dress\"\n",
        "\n",
        "4: \"Coat\"\n",
        "\n",
        "5: \"Sandal\"\n",
        "\n",
        "6: \"Shirt\"\n",
        "\n",
        "7: \"Sneaker\"\n",
        "\n",
        "8: \"Bag\"\n",
        "\n",
        "9: \"Ankle Boot\"\n"
      ],
      "metadata": {
        "id": "ThypKnAGjVr9"
      }
    },
    {
      "cell_type": "markdown",
      "source": [
        "First we need to extract out only the relevant items from the dataset. Namely those observations that correspond to \"Sandals\", \"Sneakers\", and \"Ankle Boots\" or observations where the label is 5, 7, or 9\n",
        "\n",
        "You can extract the image and label from the training_data object with `training_data[idx]` which will extract the image and label from the training dataset that corresponds to observation `idx`.\n",
        "\n",
        "See the example below that extracts observation 0"
      ],
      "metadata": {
        "id": "33zRinGvoVls"
      }
    },
    {
      "cell_type": "code",
      "source": [
        "idx = 0\n",
        "img, label = training_data[idx]"
      ],
      "metadata": {
        "id": "_u0-Zaq-Y9Tv"
      },
      "execution_count": null,
      "outputs": []
    },
    {
      "cell_type": "markdown",
      "source": [
        "1. Write a loop (or however you want) to pull out all observations with a 5, 7, or 9 label. Store the extracted image in `shoes` and the extracted labels in `labels`. There are 6000 images per class in this dataset."
      ],
      "metadata": {
        "id": "aNHqL0ZHoo4r"
      }
    },
    {
      "cell_type": "code",
      "source": [
        "shoes = np.zeros((3 * 6000, 28*28))\n",
        "labels = np.zeros(3 * 6000)\n",
        "\n",
        "target_labels = [5, 7, 9]\n",
        "\n",
        "for i in trange(len(training_data)):\n",
        "  img, label = training_data[i]\n",
        "  img = img.flatten() # flattens the image into a vector\n",
        "\n",
        "  # store these only if label in [5, 7, 9]\n",
        "\n",
        "  if label in target_labels:\n",
        "        shoes[idx] = img\n",
        "        labels[idx] = label\n",
        "        idx += 1\n"
      ],
      "metadata": {
        "id": "ftMt9WWLZOZP",
        "colab": {
          "base_uri": "https://localhost:8080/",
          "height": 49,
          "referenced_widgets": [
            "867ff52b4b0140fcb9358ab8fe519c86",
            "96eca633d34d4b18927bba9c31094dbe",
            "2a0808e0196544b98526120436846ae6",
            "f902ef511d8042488a608c6d9937542f",
            "5170ee587481430e862a507ce1aa4027",
            "69be581cc4b146aea6305b08f8fac59f",
            "02a6e142b34041478960c2bad992027a",
            "88a007b05d73466caf2ed3f0c90c3c50",
            "d265fc1562c843d2b4956c4a3adbcd67",
            "d34fde77c6ab4b529f25b5ef33e38601",
            "95aaf286f1bd4bbcad6f79ae8ed91f93"
          ]
        },
        "outputId": "6eeeca59-2503-45f8-f568-17a5f36f05d1"
      },
      "execution_count": null,
      "outputs": [
        {
          "output_type": "display_data",
          "data": {
            "text/plain": [
              "  0%|          | 0/60000 [00:00<?, ?it/s]"
            ],
            "application/vnd.jupyter.widget-view+json": {
              "version_major": 2,
              "version_minor": 0,
              "model_id": "867ff52b4b0140fcb9358ab8fe519c86"
            }
          },
          "metadata": {}
        }
      ]
    },
    {
      "cell_type": "code",
      "source": [
        "print(\"shoes array shape:\", shoes.shape)\n",
        "print(\"labels array shape:\", labels.shape)"
      ],
      "metadata": {
        "colab": {
          "base_uri": "https://localhost:8080/"
        },
        "id": "mZ-VenQ-xl9B",
        "outputId": "7f8e4c80-b762-4b26-9fc1-2345aff2c119"
      },
      "execution_count": null,
      "outputs": [
        {
          "output_type": "stream",
          "name": "stdout",
          "text": [
            "shoes array shape: (18000, 784)\n",
            "labels array shape: (18000,)\n"
          ]
        }
      ]
    },
    {
      "cell_type": "markdown",
      "source": [
        "2. Plot one observation from each class. Label the image with the name of the class. Note that the stored shoe images, e.x. `shoe[0]` is a vector and needs to be reshaped into a 28 x 28 pixel image. Use `imshow`"
      ],
      "metadata": {
        "id": "bOqiUn_UpWEx"
      }
    },
    {
      "cell_type": "code",
      "source": [
        "class_names = [\"Sandal\", \"Sneaker\", \"Ankle Boot\"]\n",
        "fig, ax = plt.subplots(1, 3, constrained_layout = True, figsize = (10, 4))\n",
        "\n",
        "### print one image per ax. Example provided. Dont forget to reshape!\n",
        "\n",
        "for i in range(3):\n",
        "    # Find the index of the first observation in the class\n",
        "    class_index = np.where(labels == target_labels[i])[0][0]\n",
        "    # Get the image and label\n",
        "    shoe_image = shoes[class_index].reshape(28, 28)\n",
        "    shoe_label = class_names[i]\n",
        "    ax[i].imshow(shoe_image, cmap='gray')\n",
        "    ax[i].set_title(shoe_label)\n",
        "    ax[i].axis('off')\n",
        "\n",
        "# plot\n",
        "plt.show()"
      ],
      "metadata": {
        "id": "tMiHB0GTy3Au",
        "colab": {
          "base_uri": "https://localhost:8080/",
          "height": 384
        },
        "outputId": "2490b321-0e97-492d-bca7-1c5a1f8df9d8"
      },
      "execution_count": null,
      "outputs": [
        {
          "output_type": "display_data",
          "data": {
            "text/plain": [
              "<Figure size 1000x400 with 3 Axes>"
            ],
            "image/png": "[encoded data removed]"
          },
          "metadata": {}
        }
      ]
    },
    {
      "cell_type": "code",
      "source": [
        "### Example plot. Do not run."
      ],
      "metadata": {
        "id": "MT1E_W2wZr1_"
      },
      "execution_count": null,
      "outputs": []
    },
    {
      "cell_type": "markdown",
      "source": [
        "# part 2.b\n",
        "\n",
        "Your boss doesnt want to pay for the computing necessary for deep learning so were going to fit some classical models and hope for the best.\n",
        "\n",
        "1. Split the data with a test_size = 0.33 and random_state 42 using the `train_test_split()` function.\n",
        "\n",
        "2. Fit Naive Bayes, LDA, QDA, and Logistic Regression to the training data."
      ],
      "metadata": {
        "id": "nMYV031KjTQU"
      }
    },
    {
      "cell_type": "code",
      "source": [
        "from sklearn.model_selection import train_test_split\n",
        "from sklearn.naive_bayes import GaussianNB\n",
        "from sklearn.discriminant_analysis import LinearDiscriminantAnalysis, QuadraticDiscriminantAnalysis\n",
        "from sklearn.linear_model import LogisticRegression\n",
        "x = shoes\n",
        "y = labels\n",
        "\n",
        "x_train, x_test, y_train, y_test = train_test_split(x, y, test_size=0.33, random_state=40)\n",
        "\n",
        "# fit models\n",
        "# Initialize and fit the models\n",
        "naive_bayes = GaussianNB()\n",
        "naive_bayes.fit(x_train, y_train)\n",
        "\n",
        "lda = LinearDiscriminantAnalysis()\n",
        "lda.fit(x_train, y_train)\n",
        "\n",
        "qda = QuadraticDiscriminantAnalysis()\n",
        "qda.fit(x_train, y_train)\n",
        "\n",
        "logistic_regression = LogisticRegression(max_iter=1000)\n",
        "logistic_regression.fit(x_train, y_train)"
      ],
      "metadata": {
        "colab": {
          "base_uri": "https://localhost:8080/",
          "height": 75
        },
        "id": "ZnJH4CfLbL9T",
        "outputId": "3969d436-3649-404c-d7b9-d54dd421467e"
      },
      "execution_count": null,
      "outputs": [
        {
          "output_type": "execute_result",
          "data": {
            "text/plain": [
              "LogisticRegression(max_iter=1000)"
            ],
            "text/html": [
              "<style>#sk-container-id-4 {color: black;background-color: white;}#sk-container-id-4 pre{padding: 0;}#sk-container-id-4 div.sk-toggleable {background-color: white;}#sk-container-id-4 label.sk-toggleable__label {cursor: pointer;display: block;width: 100%;margin-bottom: 0;padding: 0.3em;box-sizing: border-box;text-align: center;}#sk-container-id-4 label.sk-toggleable__label-arrow:before {content: \"▸\";float: left;margin-right: 0.25em;color: #696969;}#sk-container-id-4 label.sk-toggleable__label-arrow:hover:before {color: black;}#sk-container-id-4 div.sk-estimator:hover label.sk-toggleable__label-arrow:before {color: black;}#sk-container-id-4 div.sk-toggleable__content {max-height: 0;max-width: 0;overflow: hidden;text-align: left;background-color: #f0f8ff;}#sk-container-id-4 div.sk-toggleable__content pre {margin: 0.2em;color: black;border-radius: 0.25em;background-color: #f0f8ff;}#sk-container-id-4 input.sk-toggleable__control:checked~div.sk-toggleable__content {max-height: 200px;max-width: 100%;overflow: auto;}#sk-container-id-4 input.sk-toggleable__control:checked~label.sk-toggleable__label-arrow:before {content: \"▾\";}#sk-container-id-4 div.sk-estimator input.sk-toggleable__control:checked~label.sk-toggleable__label {background-color: #d4ebff;}#sk-container-id-4 div.sk-label input.sk-toggleable__control:checked~label.sk-toggleable__label {background-color: #d4ebff;}#sk-container-id-4 input.sk-hidden--visually {border: 0;clip: rect(1px 1px 1px 1px);clip: rect(1px, 1px, 1px, 1px);height: 1px;margin: -1px;overflow: hidden;padding: 0;position: absolute;width: 1px;}#sk-container-id-4 div.sk-estimator {font-family: monospace;background-color: #f0f8ff;border: 1px dotted black;border-radius: 0.25em;box-sizing: border-box;margin-bottom: 0.5em;}#sk-container-id-4 div.sk-estimator:hover {background-color: #d4ebff;}#sk-container-id-4 div.sk-parallel-item::after {content: \"\";width: 100%;border-bottom: 1px solid gray;flex-grow: 1;}#sk-container-id-4 div.sk-label:hover label.sk-toggleable__label {background-color: #d4ebff;}#sk-container-id-4 div.sk-serial::before {content: \"\";position: absolute;border-left: 1px solid gray;box-sizing: border-box;top: 0;bottom: 0;left: 50%;z-index: 0;}#sk-container-id-4 div.sk-serial {display: flex;flex-direction: column;align-items: center;background-color: white;padding-right: 0.2em;padding-left: 0.2em;position: relative;}#sk-container-id-4 div.sk-item {position: relative;z-index: 1;}#sk-container-id-4 div.sk-parallel {display: flex;align-items: stretch;justify-content: center;background-color: white;position: relative;}#sk-container-id-4 div.sk-item::before, #sk-container-id-4 div.sk-parallel-item::before {content: \"\";position: absolute;border-left: 1px solid gray;box-sizing: border-box;top: 0;bottom: 0;left: 50%;z-index: -1;}#sk-container-id-4 div.sk-parallel-item {display: flex;flex-direction: column;z-index: 1;position: relative;background-color: white;}#sk-container-id-4 div.sk-parallel-item:first-child::after {align-self: flex-end;width: 50%;}#sk-container-id-4 div.sk-parallel-item:last-child::after {align-self: flex-start;width: 50%;}#sk-container-id-4 div.sk-parallel-item:only-child::after {width: 0;}#sk-container-id-4 div.sk-dashed-wrapped {border: 1px dashed gray;margin: 0 0.4em 0.5em 0.4em;box-sizing: border-box;padding-bottom: 0.4em;background-color: white;}#sk-container-id-4 div.sk-label label {font-family: monospace;font-weight: bold;display: inline-block;line-height: 1.2em;}#sk-container-id-4 div.sk-label-container {text-align: center;}#sk-container-id-4 div.sk-container {/* jupyter's `normalize.less` sets `[hidden] { display: none; }` but bootstrap.min.css set `[hidden] { display: none !important; }` so we also need the `!important` here to be able to override the default hidden behavior on the sphinx rendered scikit-learn.org. See: https://github.com/scikit-learn/scikit-learn/issues/21755 */display: inline-block !important;position: relative;}#sk-container-id-4 div.sk-text-repr-fallback {display: none;}</style><div id=\"sk-container-id-4\" class=\"sk-top-container\"><div class=\"sk-text-repr-fallback\"><pre>LogisticRegression(max_iter=1000)</pre><b>In a Jupyter environment, please rerun this cell to show the HTML representation or trust the notebook. <br />On GitHub, the HTML representation is unable to render, please try loading this page with nbviewer.org.</b></div><div class=\"sk-container\" hidden><div class=\"sk-item\"><div class=\"sk-estimator sk-toggleable\"><input class=\"sk-toggleable__control sk-hidden--visually\" id=\"sk-estimator-id-4\" type=\"checkbox\" checked><label for=\"sk-estimator-id-4\" class=\"sk-toggleable__label sk-toggleable__label-arrow\">LogisticRegression</label><div class=\"sk-toggleable__content\"><pre>LogisticRegression(max_iter=1000)</pre></div></div></div></div></div>"
            ]
          },
          "metadata": {},
          "execution_count": 72
        }
      ]
    },
    {
      "cell_type": "markdown",
      "source": [
        "3. Print the training error and test error (Brier and Log).\n",
        "4. Which model has the lowest train? Lowest test? Lowest difference between train and test?"
      ],
      "metadata": {
        "id": "fP4ivMQrqnei"
      }
    },
    {
      "cell_type": "code",
      "source": [
        "from sklearn.metrics import brier_score_loss\n",
        "\n",
        "# Function calculate2 Brier scores for each class and model\n",
        "def calculate_brier_scores(model, x_train, y_train, x_test, y_test):\n",
        "    train_prob = model.predict_proba(x_train)\n",
        "    test_prob = model.predict_proba(x_test)\n",
        "\n",
        "    num_classes = train_prob.shape[1]  # get the number of classes\n",
        "\n",
        "    brier_scores_train = []\n",
        "    brier_scores_test = []\n",
        "\n",
        "    for class_label in range(num_classes):\n",
        "        train_prob = model.predict_proba(x_train)\n",
        "        test_prob = model.predict_proba(x_test)\n",
        "\n",
        "        brier_train_class = brier_score_loss((y_train == class_label).astype(int), train_prob[:, class_label])\n",
        "        brier_test_class = brier_score_loss((y_test == class_label).astype(int), test_prob[:, class_label])\n",
        "        brier_scores_train.append(brier_train_class)\n",
        "        brier_scores_test.append(brier_test_class)\n",
        "\n",
        "    return brier_scores_train, brier_scores_test\n",
        "\n",
        "\n",
        "num_classes = len(np.unique(y_train))\n",
        "# Calculate Brier scores for each model\n",
        "brier_scores_train_nb, brier_scores_test_nb = calculate_brier_scores(naive_bayes, x_train, y_train, x_test, y_test)\n",
        "brier_scores_train_lda, brier_scores_test_lda = calculate_brier_scores(lda, x_train, y_train, x_test, y_test)\n",
        "brier_scores_train_qda, brier_scores_test_qda = calculate_brier_scores(qda, x_train, y_train, x_test, y_test)\n",
        "brier_scores_train_lr, brier_scores_test_lr = calculate_brier_scores(logistic_regression, x_train, y_train, x_test, y_test)\n",
        "\n",
        "# Print\n",
        "for class_label, brier_train_nb, brier_test_nb, brier_train_lda, brier_test_lda, brier_train_qda, brier_test_qda, brier_train_lr, brier_test_lr in zip(\n",
        "    range(num_classes),\n",
        "    brier_scores_train_nb, brier_scores_test_nb,\n",
        "    brier_scores_train_lda, brier_scores_test_lda,\n",
        "    brier_scores_train_qda, brier_scores_test_qda,\n",
        "    brier_scores_train_lr, brier_scores_test_lr\n",
        "):\n",
        "    print(f\"Class {class_label}:\")\n",
        "    print(f\"Naive Bayes - Train Brier Loss: {brier_train_nb}, Test Brier Loss: {brier_test_nb}\")\n",
        "    print(f\"Linear Discriminant Analysis - Train Brier Loss: {brier_train_lda}, Test Brier Loss: {brier_test_lda}\")\n",
        "    print(f\"Quadratic Discriminant Analysis - Train Brier Loss: {brier_train_qda}, Test Brier Loss: {brier_test_qda}\")\n",
        "    print(f\"Logistic Regression - Train Brier Loss: {brier_train_lr}, Test Brier Loss: {brier_test_lr}\")\n",
        "    print(\"\\n\")\n"
      ],
      "metadata": {
        "colab": {
          "base_uri": "https://localhost:8080/"
        },
        "id": "-FLk2jo722KX",
        "outputId": "700530b9-f082-4bbc-c499-449d6f5f87e0"
      },
      "execution_count": null,
      "outputs": [
        {
          "output_type": "stream",
          "name": "stdout",
          "text": [
            "Class 0:\n",
            "Naive Bayes - Train Brier Loss: 0.09591844489901463, Test Brier Loss: 0.0983539201791336\n",
            "Linear Discriminant Analysis - Train Brier Loss: 0.31454109730713403, Test Brier Loss: 0.31388785245442374\n",
            "Quadratic Discriminant Analysis - Train Brier Loss: 0.0804961736952081, Test Brier Loss: 0.07030406847906126\n",
            "Logistic Regression - Train Brier Loss: 0.3084987835099541, Test Brier Loss: 0.31033446297284045\n",
            "\n",
            "\n",
            "Class 1:\n",
            "Naive Bayes - Train Brier Loss: 0.6523590151799734, Test Brier Loss: 0.6618190490240132\n",
            "Linear Discriminant Analysis - Train Brier Loss: 0.32694635643408065, Test Brier Loss: 0.32652629548354994\n",
            "Quadratic Discriminant Analysis - Train Brier Loss: 0.6241036327478524, Test Brier Loss: 0.6225589207142217\n",
            "Logistic Regression - Train Brier Loss: 0.30123669556526783, Test Brier Loss: 0.300205811513577\n",
            "\n",
            "\n",
            "Class 2:\n",
            "Naive Bayes - Train Brier Loss: 0.25155296571582936, Test Brier Loss: 0.23940250244194466\n",
            "Linear Discriminant Analysis - Train Brier Loss: 0.32184351851801074, Test Brier Loss: 0.3160114099501877\n",
            "Quadratic Discriminant Analysis - Train Brier Loss: 0.2952061468690148, Test Brier Loss: 0.30687139239776695\n",
            "Logistic Regression - Train Brier Loss: 0.31503184859463074, Test Brier Loss: 0.3109749348727028\n",
            "\n",
            "\n"
          ]
        }
      ]
    },
    {
      "cell_type": "code",
      "source": [
        "from sklearn.metrics import log_loss\n",
        "\n",
        "# Function calculates Log scores for each class and model\n",
        "def calculate_log_scores(model, x_train, y_train, x_test, y_test):\n",
        "    train_prob = model.predict_proba(x_train)\n",
        "    test_prob = model.predict_proba(x_test)\n",
        "\n",
        "    num_classes = train_prob.shape[1]\n",
        "\n",
        "    log_scores_train = []\n",
        "    log_scores_test = []\n",
        "\n",
        "    for class_label in range(num_classes):\n",
        "        # Calculate Log scores\n",
        "        log_train_class = log_loss((y_train == class_label).astype(int), train_prob[:, class_label], labels=[0, 1])\n",
        "        log_test_class = log_loss((y_test == class_label).astype(int), test_prob[:, class_label], labels=[0, 1])\n",
        "        log_scores_train.append(log_train_class)\n",
        "        log_scores_test.append(log_test_class)\n",
        "\n",
        "    return log_scores_train, log_scores_test\n",
        "\n",
        "# Calculate Log scores for each model\n",
        "log_scores_train_nb, log_scores_test_nb = calculate_log_scores(naive_bayes, x_train, y_train, x_test, y_test)\n",
        "log_scores_train_lda, log_scores_test_lda = calculate_log_scores(lda, x_train, y_train, x_test, y_test)\n",
        "log_scores_train_qda, log_scores_test_qda = calculate_log_scores(qda, x_train, y_train, x_test, y_test)\n",
        "log_scores_train_lr, log_scores_test_lr = calculate_log_scores(logistic_regression, x_train, y_train, x_test, y_test)\n",
        "\n",
        "# Print\n",
        "for class_label, log_train_nb, log_test_nb, log_train_lda, log_test_lda, log_train_qda, log_test_qda, log_train_lr, log_test_lr in zip(\n",
        "    range(num_classes),\n",
        "    log_scores_train_nb, log_scores_test_nb,\n",
        "    log_scores_train_lda, log_scores_test_lda,\n",
        "    log_scores_train_qda, log_scores_test_qda,\n",
        "    log_scores_train_lr, log_scores_test_lr\n",
        "):\n",
        "    print(f\"Class {class_label}:\")\n",
        "    print(f\"Naive Bayes - Train Log Loss: {log_train_nb}, Test Log Loss: {log_test_nb}\")\n",
        "    print(f\"Linear Discriminant Analysis - Train Log Loss: {log_train_lda}, Test Log Loss: {log_test_lda}\")\n",
        "    print(f\"Quadratic Discriminant Analysis - Train Log Loss: {log_train_qda}, Test Log Loss: {log_test_qda}\")\n",
        "    print(f\"Logistic Regression - Train Log Loss: {log_train_lr}, Test Log Loss: {log_test_lr}\")\n",
        "    print(\"\\n\")\n"
      ],
      "metadata": {
        "colab": {
          "base_uri": "https://localhost:8080/"
        },
        "id": "bR5YX-SlI-el",
        "outputId": "ad4bf216-d342-49c5-ca97-fb801c348424"
      },
      "execution_count": null,
      "outputs": [
        {
          "output_type": "stream",
          "name": "stdout",
          "text": [
            "Class 0:\n",
            "Naive Bayes - Train Log Loss: 3.398071250372638, Test Log Loss: 3.461485300918135\n",
            "Linear Discriminant Analysis - Train Log Loss: 2.967054862370706, Test Log Loss: 2.9705516189976393\n",
            "Quadratic Discriminant Analysis - Train Log Loss: 2.8440246155197, Test Log Loss: 2.4931148659568456\n",
            "Logistic Regression - Train Log Loss: 2.2206302113612137, Test Log Loss: 2.2613749686574125\n",
            "\n",
            "\n",
            "Class 1:\n",
            "Naive Bayes - Train Log Loss: 23.464554434866784, Test Log Loss: 23.794152715095557\n",
            "Linear Discriminant Analysis - Train Log Loss: 2.7319140971755775, Test Log Loss: 2.731253351715959\n",
            "Quadratic Discriminant Analysis - Train Log Loss: 22.485651863398186, Test Log Loss: 22.43343536760617\n",
            "Logistic Regression - Train Log Loss: 1.6196627164484538, Test Log Loss: 1.61161830190088\n",
            "\n",
            "\n",
            "Class 2:\n",
            "Naive Bayes - Train Log Loss: 9.005549173182457, Test Log Loss: 8.576915846578002\n",
            "Linear Discriminant Analysis - Train Log Loss: 3.497591583308156, Test Log Loss: 3.3648845865691404\n",
            "Quadratic Discriminant Analysis - Train Log Loss: 10.593950392900325, Test Log Loss: 10.99859805499235\n",
            "Logistic Regression - Train Log Loss: 2.2955777791259315, Test Log Loss: 2.1954762968096215\n",
            "\n",
            "\n"
          ]
        }
      ]
    },
    {
      "cell_type": "code",
      "source": [
        "# Calculate the difference between train and test Brier scores for each model\n",
        "diff_train_test_nb = np.mean(np.abs(np.array(brier_scores_train_nb) - np.array(brier_scores_test_nb)))\n",
        "diff_train_test_lda = np.mean(np.abs(np.array(brier_scores_train_lda) - np.array(brier_scores_test_lda)))\n",
        "diff_train_test_qda = np.mean(np.abs(np.array(brier_scores_train_qda) - np.array(brier_scores_test_qda)))\n",
        "diff_train_test_lr = np.mean(np.abs(np.array(brier_scores_train_lr) - np.array(brier_scores_test_lr)))\n",
        "print(\"Naive Bayes:\")\n",
        "print(\"Train Brier Loss:\", np.mean(brier_scores_train_nb))\n",
        "print(\"Test Brier Loss:\", np.mean(brier_scores_test_nb))\n",
        "print()\n",
        "print(\"Linear Discriminant Analysis:\")\n",
        "print(\"Train Brier Loss:\", np.mean(brier_scores_train_lda))\n",
        "print(\"Test Brier Loss:\", np.mean(brier_scores_test_lda))\n",
        "print()\n",
        "print(\"Quadratic Discriminant Analysis:\")\n",
        "print(\"Train Brier Loss:\", np.mean(brier_scores_train_qda))\n",
        "print(\"Test Brier Loss:\", np.mean(brier_scores_test_qda))\n",
        "print()\n",
        "print(\"Logistic Regression:\")\n",
        "print(\"Train Brier Loss:\", np.mean(brier_scores_train_lr))\n",
        "print(\"Test Brier Loss:\", np.mean(brier_scores_test_lr))\n",
        "print()\n",
        "print(\"Difference between Train and Test Brier Scores:\")\n",
        "print(\"Naive Bayes:\", diff_train_test_nb)\n",
        "print(\"Linear Discriminant Analysis:\", diff_train_test_lda)\n",
        "print(\"Quadratic Discriminant Analysis:\", diff_train_test_qda)\n",
        "print(\"Logistic Regression:\", diff_train_test_lr)"
      ],
      "metadata": {
        "colab": {
          "base_uri": "https://localhost:8080/"
        },
        "id": "FMp6ntcbi31g",
        "outputId": "efa58577-7e17-470a-dce8-0c11a4c3347a"
      },
      "execution_count": null,
      "outputs": [
        {
          "output_type": "stream",
          "name": "stdout",
          "text": [
            "Naive Bayes:\n",
            "Train Brier Loss: 0.33327680859827247\n",
            "Test Brier Loss: 0.33319182388169716\n",
            "\n",
            "Linear Discriminant Analysis:\n",
            "Train Brier Loss: 0.3211103240864085\n",
            "Test Brier Loss: 0.3188085192960538\n",
            "\n",
            "Quadratic Discriminant Analysis:\n",
            "Train Brier Loss: 0.3332686511040251\n",
            "Test Brier Loss: 0.3332447938636833\n",
            "\n",
            "Logistic Regression:\n",
            "Train Brier Loss: 0.30825577588995084\n",
            "Test Brier Loss: 0.3071717364530401\n",
            "\n",
            "Difference between Train and Test Brier Scores:\n",
            "Naive Bayes: 0.008015324132681157\n",
            "Linear Discriminant Analysis: 0.0023018047903546703\n",
            "Quadratic Discriminant Analysis: 0.007800687592843233\n",
            "Logistic Regression: 0.00230782574550172\n"
          ]
        }
      ]
    },
    {
      "cell_type": "code",
      "source": [
        "# Calculate the difference between train and test log losses for each model\n",
        "diff_train_test_nb = np.mean(np.abs(np.array(log_scores_train_nb) - np.array(log_scores_test_nb)))\n",
        "diff_train_test_lda = np.mean(np.abs(np.array(log_scores_train_lda) - np.array(log_scores_test_lda)))\n",
        "diff_train_test_qda = np.mean(np.abs(np.array(log_scores_train_qda) - np.array(log_scores_test_qda)))\n",
        "diff_train_test_lr = np.mean(np.abs(np.array(log_scores_train_lr) - np.array(log_scores_test_lr)))\n",
        "\n",
        "# Find the model with the lowest train and test log loss\n",
        "lowest_train_log_loss_model = [\n",
        "    (\"Naive Bayes\", np.mean(log_scores_train_nb)),\n",
        "    (\"Linear Discriminant Analysis\", np.mean(log_scores_train_lda)),\n",
        "    (\"Quadratic Discriminant Analysis\", np.mean(log_scores_train_qda)),\n",
        "    (\"Logistic Regression\", np.mean(log_scores_train_lr))\n",
        "]\n",
        "lowest_test_log_loss_model = [\n",
        "    (\"Naive Bayes\", np.mean(log_scores_test_nb)),\n",
        "    (\"Linear Discriminant Analysis\", np.mean(log_scores_test_lda)),\n",
        "    (\"Quadratic Discriminant Analysis\", np.mean(log_scores_test_qda)),\n",
        "    (\"Logistic Regression\", np.mean(log_scores_test_lr))\n",
        "]\n",
        "\n",
        "# Find the model with the lowest difference between train and test log losses\n",
        "lowest_diff_log_loss_model = [\n",
        "    (\"Naive Bayes\", diff_train_test_nb),\n",
        "    (\"Linear Discriminant Analysis\", diff_train_test_lda),\n",
        "    (\"Quadratic Discriminant Analysis\", diff_train_test_qda),\n",
        "    (\"Logistic Regression\", diff_train_test_lr)\n",
        "]\n",
        "print(\"Model with Lowest Train Log Loss:\", min(lowest_train_log_loss_model, key=lambda x: x[1]))\n",
        "print(\"Model with Lowest Test Log Loss:\", min(lowest_test_log_loss_model, key=lambda x: x[1]))\n",
        "print(\"Model with Lowest Difference between Train and Test Log Loss:\", min(lowest_diff_log_loss_model, key=lambda x: x[1]))\n"
      ],
      "metadata": {
        "colab": {
          "base_uri": "https://localhost:8080/"
        },
        "id": "CytRu0Zt71c4",
        "outputId": "db01b230-7b5d-4668-cdb7-80461006fdef"
      },
      "execution_count": null,
      "outputs": [
        {
          "output_type": "stream",
          "name": "stdout",
          "text": [
            "Model with Lowest Train Log Loss: ('Logistic Regression', 2.0452902356451994)\n",
            "Model with Lowest Test Log Loss: ('Logistic Regression', 2.022823189122638)\n",
            "Model with Lowest Difference between Train and Test Log Loss: ('Linear Discriminant Analysis', 0.04562149960852239)\n"
          ]
        }
      ]
    },
    {
      "cell_type": "markdown",
      "source": [
        "For the Brier score, the model with the lowest train and test is **logistic** **regression**. The lowest difference is **LDA**. For Log score, the loweset train and test is **logistic regression**. **Logistic regression **also has the lowest difference."
      ],
      "metadata": {
        "id": "WvC2R5YYH-Vg"
      }
    },
    {
      "cell_type": "markdown",
      "source": [
        "# part 2.c\n",
        "\n",
        "1. Print the classification report for each method.\n",
        "2. Which method is best in terms of F1 score?"
      ],
      "metadata": {
        "id": "pPO88HzBjLyZ"
      }
    },
    {
      "cell_type": "code",
      "source": [
        "# predict labels for each model\n",
        "from sklearn.metrics import classification_report\n",
        "\n",
        "y_pred_nb = naive_bayes.predict(x_test)\n",
        "y_pred_lda = lda.predict(x_test)\n",
        "y_pred_qda = qda.predict(x_test)\n",
        "y_pred_lr = logistic_regression.predict(x_test)"
      ],
      "metadata": {
        "id": "5pnwpYPrxuzO"
      },
      "execution_count": null,
      "outputs": []
    },
    {
      "cell_type": "code",
      "source": [
        "\n",
        "\n",
        "# Print classification reports for each model\n",
        "print(\"Classification Report for Naive Bayes:\")\n",
        "print(classification_report(y_test, y_pred_nb))\n",
        "\n",
        "print(\"Classification Report for Linear Discriminant Analysis:\")\n",
        "print(classification_report(y_test, y_pred_lda))\n",
        "\n",
        "print(\"Classification Report for Quadratic Discriminant Analysis:\")\n",
        "print(classification_report(y_test, y_pred_qda))\n",
        "\n",
        "print(\"Classification Report for Logistic Regression:\")\n",
        "print(classification_report(y_test, y_pred_lr))\n"
      ],
      "metadata": {
        "id": "66OD5J0miI64",
        "colab": {
          "base_uri": "https://localhost:8080/"
        },
        "outputId": "632b7d73-5d76-47f2-bd27-be267671a6d6"
      },
      "execution_count": null,
      "outputs": [
        {
          "output_type": "stream",
          "name": "stdout",
          "text": [
            "Classification Report for Naive Bayes:\n",
            "              precision    recall  f1-score   support\n",
            "\n",
            "         5.0       0.92      0.27      0.42      2001\n",
            "         7.0       0.49      0.98      0.66      1994\n",
            "         9.0       0.90      0.66      0.76      1945\n",
            "\n",
            "    accuracy                           0.63      5940\n",
            "   macro avg       0.77      0.63      0.61      5940\n",
            "weighted avg       0.77      0.63      0.61      5940\n",
            "\n",
            "Classification Report for Linear Discriminant Analysis:\n",
            "              precision    recall  f1-score   support\n",
            "\n",
            "         5.0       0.95      0.92      0.93      2001\n",
            "         7.0       0.89      0.93      0.91      1994\n",
            "         9.0       0.94      0.94      0.94      1945\n",
            "\n",
            "    accuracy                           0.93      5940\n",
            "   macro avg       0.93      0.93      0.93      5940\n",
            "weighted avg       0.93      0.93      0.93      5940\n",
            "\n",
            "Classification Report for Quadratic Discriminant Analysis:\n",
            "              precision    recall  f1-score   support\n",
            "\n",
            "         5.0       0.89      0.19      0.31      2001\n",
            "         7.0       0.52      0.96      0.68      1994\n",
            "         9.0       0.76      0.72      0.74      1945\n",
            "\n",
            "    accuracy                           0.62      5940\n",
            "   macro avg       0.73      0.62      0.57      5940\n",
            "weighted avg       0.73      0.62      0.57      5940\n",
            "\n",
            "Classification Report for Logistic Regression:\n",
            "              precision    recall  f1-score   support\n",
            "\n",
            "         5.0       0.94      0.93      0.94      2001\n",
            "         7.0       0.92      0.92      0.92      1994\n",
            "         9.0       0.94      0.95      0.94      1945\n",
            "\n",
            "    accuracy                           0.93      5940\n",
            "   macro avg       0.93      0.93      0.93      5940\n",
            "weighted avg       0.93      0.93      0.93      5940\n",
            "\n"
          ]
        }
      ]
    },
    {
      "cell_type": "markdown",
      "source": [
        " **Linear Discriminant Analysis** and **Logistic Regression**\n",
        "\n",
        "\n",
        "have the highest F1-scores for most classes."
      ],
      "metadata": {
        "id": "Cja_LXeZQMS4"
      }
    },
    {
      "cell_type": "markdown",
      "source": [
        "# part 2.d\n",
        "\n",
        "Compute and print the accuracy of each method. Which method has the highest accuracy?"
      ],
      "metadata": {
        "id": "ptF2Kiqomd8D"
      }
    },
    {
      "cell_type": "code",
      "source": [
        "from sklearn.metrics import accuracy_score\n",
        "\n",
        "# predictions for each model\n",
        "naive_bayes_predictions = naive_bayes.predict(x_test)\n",
        "lda_predictions = lda.predict(x_test)\n",
        "qda_predictions = qda.predict(x_test)\n",
        "logistic_regression_predictions = logistic_regression.predict(x_test)\n",
        "# find accuracy for each model\n",
        "accuracy_nb = accuracy_score(y_test, naive_bayes_predictions)\n",
        "accuracy_lda = accuracy_score(y_test, lda_predictions)\n",
        "accuracy_qda = accuracy_score(y_test, qda_predictions)\n",
        "accuracy_lr = accuracy_score(y_test, logistic_regression_predictions)\n",
        "# print\n",
        "print(\"Accuracy for Naive Bayes:\", accuracy_nb)\n",
        "print(\"Accuracy for Linear Discriminant Analysis:\", accuracy_lda)\n",
        "print(\"Accuracy for Quadratic Discriminant Analysis:\", accuracy_qda)\n",
        "print(\"Accuracy for Logistic Regression:\", accuracy_lr)\n"
      ],
      "metadata": {
        "colab": {
          "base_uri": "https://localhost:8080/"
        },
        "id": "1FgxFJL8jz0Q",
        "outputId": "16f20af4-c58e-43d0-9253-fe47f60b4cbe"
      },
      "execution_count": null,
      "outputs": [
        {
          "output_type": "stream",
          "name": "stdout",
          "text": [
            "Accuracy for Naive Bayes: 0.6343434343434343\n",
            "Accuracy for Linear Discriminant Analysis: 0.9271043771043771\n",
            "Accuracy for Quadratic Discriminant Analysis: 0.6215488215488215\n",
            "Accuracy for Logistic Regression: 0.9328282828282828\n"
          ]
        }
      ]
    },
    {
      "cell_type": "markdown",
      "source": [
        "**Logistic Regression** is the model with the highest accuracy."
      ],
      "metadata": {
        "id": "MKfJ9qZaSffI"
      }
    },
    {
      "cell_type": "markdown",
      "source": [
        "# part 2.e\n",
        "\n",
        "The above results are dependent on the the specific seed we set in the train test split function.\n",
        "\n",
        "How do we know the best model would still be the best if the data was split differently? Let's resplit the data a few times and determine which model is best on average.\n",
        "\n",
        "1. Refit your models using 20 different seed values in the `train_test_split` function. Use seed values 0 to 19.\n",
        "2. Recompute the test set brier score and accuracy for each seed.\n",
        "3. Print out the average Brier score and accuracy and the standard deviation of each metric.\n",
        "4. Is the best model always better than the others? Which model is best on average?\n"
      ],
      "metadata": {
        "id": "hA48Ip0pm4RI"
      }
    },
    {
      "cell_type": "code",
      "source": [
        "from sklearn.metrics import brier_score_loss, accuracy_score\n",
        "from sklearn.model_selection import train_test_split\n",
        "from sklearn.naive_bayes import GaussianNB\n",
        "from sklearn.discriminant_analysis import LinearDiscriminantAnalysis, QuadraticDiscriminantAnalysis\n",
        "from sklearn.linear_model import LogisticRegression\n",
        "import numpy as np\n",
        "\n",
        "# Create your dataset (x and y) here\n",
        "x = shoes\n",
        "y = labels\n",
        "n_classes = len(np.unique(y))\n",
        "\n",
        "naive_bayes = GaussianNB()\n",
        "lda = LinearDiscriminantAnalysis()\n",
        "qda = QuadraticDiscriminantAnalysis()\n",
        "logistic_regression = LogisticRegression(max_iter=1000)\n",
        "\n",
        "seeds = np.arange(20)\n",
        "\n",
        "# storage for Brier scores and accuracy for each model across different seeds\n",
        "brier_scores_nb = []\n",
        "brier_scores_lda = []\n",
        "brier_scores_qda = []\n",
        "brier_scores_lr = []\n",
        "accuracy_scores_nb = []\n",
        "accuracy_scores_lda = []\n",
        "accuracy_scores_qda = []\n",
        "accuracy_scores_lr = []\n",
        "\n",
        "for seed in seeds:\n",
        "    x_train, x_test, y_train, y_test = train_test_split(x, y, test_size=0.33, random_state=seed)\n",
        "\n",
        "    naive_bayes.fit(x_train, y_train)\n",
        "    lda.fit(x_train, y_train)\n",
        "    qda.fit(x_train, y_train)\n",
        "    logistic_regression.fit(x_train, y_train)\n",
        "\n",
        "    # predictions for each model\n",
        "    naive_bayes_predictions = naive_bayes.predict_proba(x_test)\n",
        "    lda_predictions = lda.predict_proba(x_test)\n",
        "    qda_predictions = qda.predict_proba(x_test)\n",
        "    logistic_regression_predictions = logistic_regression.predict_proba(x_test)\n",
        "    for class_label in range(n_classes):\n",
        "        brier_scores_nb.append(brier_score_loss(y_test == class_label, naive_bayes_predictions[:, class_label]))\n",
        "        brier_scores_lda.append(brier_score_loss(y_test == class_label, lda_predictions[:, class_label]))\n",
        "        brier_scores_qda.append(brier_score_loss(y_test == class_label, qda_predictions[:, class_label]))\n",
        "        brier_scores_lr.append(brier_score_loss(y_test == class_label, logistic_regression_predictions[:, class_label]))\n",
        "\n",
        "    accuracy_scores_nb.append(accuracy_score(y_test, naive_bayes.predict(x_test)))\n",
        "    accuracy_scores_lda.append(accuracy_score(y_test, lda.predict(x_test)))\n",
        "    accuracy_scores_qda.append(accuracy_score(y_test, qda.predict(x_test)))\n",
        "    accuracy_scores_lr.append(accuracy_score(y_test, logistic_regression.predict(x_test)))\n",
        "\n",
        "# average Brier scores and accuracy for each model\n",
        "avg_brier_nb = np.mean(brier_scores_nb)\n",
        "avg_brier_lda = np.mean(brier_scores_lda)\n",
        "avg_brier_qda = np.mean(brier_scores_qda)\n",
        "avg_brier_lr = np.mean(brier_scores_lr)\n",
        "avg_accuracy_nb = np.mean(accuracy_scores_nb)\n",
        "avg_accuracy_lda = np.mean(accuracy_scores_lda)\n",
        "avg_accuracy_qda = np.mean(accuracy_scores_qda)\n",
        "avg_accuracy_lr = np.mean(accuracy_scores_lr)\n",
        "\n",
        "# standard deviation of Brier scores and accuracy for each model\n",
        "std_brier_nb = np.std(brier_scores_nb)\n",
        "std_brier_lda = np.std(brier_scores_lda)\n",
        "std_brier_qda = np.std(brier_scores_qda)\n",
        "std_brier_lr = np.std(brier_scores_lr)\n",
        "std_accuracy_nb = np.std(accuracy_scores_nb)\n",
        "std_accuracy_lda = np.std(accuracy_scores_lda)\n",
        "std_accuracy_qda = np.std(accuracy_scores_qda)\n",
        "std_accuracy_lr = np.std(accuracy_scores_lr)\n",
        "\n",
        "# Print the results\n",
        "print(\"Average Brier Score for Naive Bayes:\", avg_brier_nb)\n",
        "print(\"Average Brier Score for Linear Discriminant Analysis:\", avg_brier_lda)\n",
        "print(\"Average Brier Score for Quadratic Discriminant Analysis:\", avg_brier_qda)\n",
        "print(\"Average Brier Score for Logistic Regression:\", avg_brier_lr)\n",
        "print()\n",
        "print(\"Average Accuracy for Naive Bayes:\", avg_accuracy_nb)\n",
        "print(\"Average Accuracy for Linear Discriminant Analysis:\", avg_accuracy_lda)\n",
        "print(\"Average Accuracy for Quadratic Discriminant Analysis:\", avg_accuracy_qda)\n",
        "print(\"Average Accuracy for Logistic Regression:\", avg_accuracy_lr)\n",
        "print()\n",
        "print(\"Standard Deviation of Brier Score for Naive Bayes:\", std_brier_nb)\n",
        "print(\"Standard Deviation of Brier Score for Linear Discriminant Analysis:\", std_brier_lda)\n",
        "print(\"Standard Deviation of Brier Score for Quadratic Discriminant Analysis:\", std_brier_qda)\n",
        "print(\"Standard Deviation of Brier Score for Logistic Regression:\", std_brier_lr)\n",
        "print()\n",
        "print(\"Standard Deviation of Accuracy for Naive Bayes:\", std_accuracy_nb)\n",
        "print(\"Standard Deviation of Accuracy for Linear Discriminant Analysis:\", std_accuracy_lda)\n",
        "print(\"Standard Deviation of Accuracy for Quadratic Discriminant Analysis:\", std_accuracy_qda)\n",
        "print(\"Standard Deviation of Accuracy for Logistic Regression:\", std_accuracy_lr)\n"
      ],
      "metadata": {
        "id": "tKBUdfrVnqU6",
        "colab": {
          "base_uri": "https://localhost:8080/"
        },
        "outputId": "3c71eb3f-0353-422f-a3dc-cb5d82a9fce2"
      },
      "execution_count": null,
      "outputs": [
        {
          "output_type": "stream",
          "name": "stdout",
          "text": [
            "Average Brier Score for Naive Bayes: 0.3332358595954538\n",
            "Average Brier Score for Linear Discriminant Analysis: 0.3193582350271764\n",
            "Average Brier Score for Quadratic Discriminant Analysis: 0.3332730291230351\n",
            "Average Brier Score for Logistic Regression: 0.308027809039911\n",
            "\n",
            "Average Accuracy for Naive Bayes: 0.6418602693602694\n",
            "Average Accuracy for Linear Discriminant Analysis: 0.9271885521885521\n",
            "Average Accuracy for Quadratic Discriminant Analysis: 0.6262121212121212\n",
            "Average Accuracy for Logistic Regression: 0.9382154882154884\n",
            "\n",
            "Standard Deviation of Brier Score for Naive Bayes: 0.2333845532460934\n",
            "Standard Deviation of Brier Score for Linear Discriminant Analysis: 0.007854544224122113\n",
            "Standard Deviation of Brier Score for Quadratic Discriminant Analysis: 0.22335881036579217\n",
            "Standard Deviation of Brier Score for Logistic Regression: 0.006027990869344459\n",
            "\n",
            "Standard Deviation of Accuracy for Naive Bayes: 0.006234476351003393\n",
            "Standard Deviation of Accuracy for Linear Discriminant Analysis: 0.0030644817722516675\n",
            "Standard Deviation of Accuracy for Quadratic Discriminant Analysis: 0.012041698139239675\n",
            "Standard Deviation of Accuracy for Logistic Regression: 0.0030199974406048763\n"
          ]
        }
      ]
    },
    {
      "cell_type": "markdown",
      "source": [
        "**Logistic Regression** has the lowest Brier score at 0.308027809039911 and it also has the hight accuracy at 0.9382154882154884 both of these make it the best model and the best on average."
      ],
      "metadata": {
        "id": "vhb5A-__b2p8"
      }
    },
    {
      "cell_type": "markdown",
      "source": [
        "# part 2.f\n",
        "\n",
        "Based on everything you have seen in parts a-e. Which model would you choose and why? Explain using at least 3 sentences and using the metrics you saw above."
      ],
      "metadata": {
        "id": "oV_h20CQmiZA"
      }
    },
    {
      "cell_type": "markdown",
      "source": [
        "**I would choose the logistic regression. When we split the data differently we found that Logistic Regression has the lowest Brier score at 0.308027809039911 and it also has the hight accuracy at 0.9382154882154884 both of these make it the best model and the best on average.When you look at the classification report logistic regression has the highest F1-scores for most classes. So for these reason logistic regression is the best model to choose.**\n",
        "\n",
        "---\n",
        "\n",
        "\n",
        "\n"
      ],
      "metadata": {
        "id": "PXs5ENe9yrk1"
      }
    }
  ]
}